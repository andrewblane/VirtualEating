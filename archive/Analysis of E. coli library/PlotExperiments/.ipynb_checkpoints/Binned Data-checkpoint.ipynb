{
 "metadata": {
  "name": "",
  "signature": "sha256:43497fb6a57c872bf99a5acf781ba48c527249c988edde06dfccbd531f69956e"
 },
 "nbformat": 3,
 "nbformat_minor": 0,
 "worksheets": []
}