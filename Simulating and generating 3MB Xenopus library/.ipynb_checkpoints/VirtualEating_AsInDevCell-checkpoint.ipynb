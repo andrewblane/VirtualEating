{
 "cells": [
  {
   "cell_type": "markdown",
   "metadata": {},
   "source": [
    "## VirtualEATING\n",
    "###Andrew Lane, University of California, Berkeley\n",
    "\n",
    "####Overview\n",
    "CRISPR-EATING is a molecular biology protocol to generate libraries of CRISPR guide RNAs. The use of this this approach to generate a library suitable for chromosomal locus imaging requires ways to avoid regions that will be processed into non-specific guides, which (in part) is what these scripts are designed to achieve.\n",
    "\n",
    "These scripts contain a set of functions that are assembled into a workflow to:\n",
    "- Predict the sgRNA spacers produced when a particualr substrate DNA is subjected to the EATING protocol described in Lane et al., *Dev. Cell* (2015).\n",
    "- Score those peredicted guides for specificity within a genome from which a BLAST database and an implementation of the CRISPR guide scoring algorithm described in Hsu et al (2013).\n",
    "- Using the score information, pick out sub-regions within the substrate DNA that will produce clusters of high-specificity guides and design PCR primers to amplify only those regions.\n",
    "\n",
    "Following the generation of suitable PCR primers from this tool, the \"wet\" portion of the protocol is as follows:\n",
    "1. The output PCR primers (144 pairs in 144 separate reactions in the case of the labled 3MB region) are used to amplify from the substrate DNA. \n",
    "2. The resulting products are pooled and subjected to the EATING molecular biology protocol.\n",
    "3. When complexed to dCas9-mNeonGreen (or other fluorescent protein), the resulting library can be used to image your desired locus.\n",
    "\n",
    "####Prerequisites\n",
    "1. Some experience with Python and the very basics of Biopython and BLAST\n",
    "2. A Python installation with biopython, pickle\n",
    "3. A BLAST database generated from the genome against which you would like to score your guides and a working BLAST installation. To generate the BLAST database, use a FASTA file containing your genome of interest. For example, [LAEVIS_7.1.repeatmasked.fa](ftp://ftp.xenbase.org/pub/Genomics/JGI/Xenla7.1/Xenla_7.1_JGI_scaffolds_on_Xenbase_GBrowse.tgz). Use the following syntax to generate the BLAST DB. (The -parse_seqids flag is critical; the guide scoring algorithm expects a database generated using this flag). \n",
    "        makeblastdb -in LAEVIS_7.1.repeatmasked.fa -dbtype nucl -parse_seqids -out xl71 -title ‘xl71’\n",
    "This was tested using makeblastdb version 2.2.29+. Perform a test BLAST query on your database to check that your installation can find it.\n",
    "4. The original FASTA file used to make the BLAST database must also be available; this is necessary so that it can be determined whether a guide BLAST database hit is adjacent to a PAM and therefore relevant for score determination. The entire genome is loaded entirely into memory in the current implementation and thus you need a computer with enough RAM (8-16GB) for this. (Future updates may remove this requirement)\n",
    "\n",
    "####References: \n",
    "Hsu PD, Scott DA, Weinstein JA, Ran FA, Konermann S, Agarwala V, et al. DNA targeting specificity of RNA-guided Cas9 nucleases. Nat Biotechnol. Nature Publishing Group; 2013;31: 827–832. doi:10.1038/nbt.2647"
   ]
  },
  {
   "cell_type": "markdown",
   "metadata": {},
   "source": [
    "###Using this notebook and adapting it for a particular purpose\n",
    "The basic EATING-related logic is in the *eating* module (eating.py). This module contains functions (prefixed with \"al_\") to predict the guides that will be generated from an input DNA sequence and score the guides. "
   ]
  },
  {
   "cell_type": "markdown",
   "metadata": {},
   "source": [
    "##Import modules"
   ]
  },
  {
   "cell_type": "code",
   "execution_count": 1,
   "metadata": {
    "collapsed": false
   },
   "outputs": [
    {
     "name": "stdout",
     "output_type": "stream",
     "text": [
      "Populating the interactive namespace from numpy and matplotlib\n"
     ]
    },
    {
     "name": "stderr",
     "output_type": "stream",
     "text": [
      "WARNING: pylab import has clobbered these variables: ['power', 'linalg', 'draw_if_interactive', 'random', 'fft', 'info']\n",
      "`%matplotlib` prevents importing * from pylab and numpy\n"
     ]
    }
   ],
   "source": [
    "import Bio \n",
    "from Bio.Blast.Applications import NcbiblastnCommandline\n",
    "from Bio import SeqIO\n",
    "from Bio.Blast import NCBIXML\n",
    "from Bio import Restriction \n",
    "from Bio.Restriction import *\n",
    "from Bio.Alphabet.IUPAC import IUPACAmbiguousDNA\n",
    "from Bio.Seq import Seq\n",
    "from Bio.SeqRecord import SeqRecord\n",
    "import cPickle as pickle\n",
    "import subprocess\n",
    "import matplotlib\n",
    "from eating import *\n",
    "import multiprocessing as mp\n",
    "from operator import itemgetter, attrgetter, methodcaller\n",
    "import numpy\n",
    "\n",
    "%pylab inline"
   ]
  },
  {
   "cell_type": "markdown",
   "metadata": {},
   "source": [
    "##Set up input files"
   ]
  },
  {
   "cell_type": "markdown",
   "metadata": {},
   "source": [
    "###1. The FASTA file to be scored"
   ]
  },
  {
   "cell_type": "code",
   "execution_count": 2,
   "metadata": {
    "collapsed": true
   },
   "outputs": [],
   "source": [
    "fasta_file = SeqIO.parse(\"../../Genomic Data/LAEVIS_7.1.repeatMasked.fa\", \"fasta\")"
   ]
  },
  {
   "cell_type": "markdown",
   "metadata": {},
   "source": [
    "###2. The genome against which generated guides are scored against\n",
    "See Prerequisites above for explanation."
   ]
  },
  {
   "cell_type": "code",
   "execution_count": 3,
   "metadata": {
    "collapsed": true
   },
   "outputs": [],
   "source": [
    "handle = open(\"../../Genomic Data/LAEVIS_7.1.repeatMasked.fa\", 'rb')\n",
    "xl71genome = SeqIO.parse(handle, \"fasta\", alphabet=IUPACAmbiguousDNA())\n",
    "xl71genomedict = {}\n",
    "for item in xl71genome:\n",
    "    xl71genomedict[item.id] = item"
   ]
  },
  {
   "cell_type": "code",
   "execution_count": 4,
   "metadata": {
    "collapsed": false,
    "scrolled": true
   },
   "outputs": [
    {
     "data": {
      "text/plain": [
       "410604"
      ]
     },
     "execution_count": 4,
     "metadata": {},
     "output_type": "execute_result"
    }
   ],
   "source": [
    "len(xl71genomedict)"
   ]
  },
  {
   "cell_type": "markdown",
   "metadata": {},
   "source": [
    "##Begin custom processing"
   ]
  },
  {
   "cell_type": "markdown",
   "metadata": {},
   "source": [
    "The FASTA file we've loaded (`fasta_file`) contains the entire *X. laevis* genome. The *X. laevis* genome hasn't yet been definitively assembled into physical chromosomes - instead, it's a large number of contigs or \"scaffolds\". For the purposes of making a library that labels a single region, we want to work with a big piece that we know is contiguous. So, we find the longest \"scaffold\"."
   ]
  },
  {
   "cell_type": "code",
   "execution_count": 5,
   "metadata": {
    "collapsed": true
   },
   "outputs": [],
   "source": [
    "longest = 0\n",
    "for item in fasta_file:\n",
    "    if len(item) > longest:\n",
    "        longest = len(item)\n",
    "        longscaffold = [item]"
   ]
  },
  {
   "cell_type": "code",
   "execution_count": 6,
   "metadata": {
    "collapsed": false
   },
   "outputs": [
    {
     "name": "stdout",
     "output_type": "stream",
     "text": [
      "Scaffold102974 is the longest scaffold at 21,560,636 bp in length.\n"
     ]
    }
   ],
   "source": [
    "print(longscaffold[0].name + \" is the longest scaffold at \" \"{:,}\".format(len(longscaffold[0])) + \" bp in length.\")"
   ]
  },
  {
   "cell_type": "markdown",
   "metadata": {},
   "source": [
    "Next, we want to digest this scaffold into guides. This uses the `al_diggesttarget` function contained in `eating.py` to produce a generator of scores."
   ]
  },
  {
   "cell_type": "code",
   "execution_count": 7,
   "metadata": {
    "collapsed": true
   },
   "outputs": [],
   "source": [
    "cutslist = al_digesttarget(longscaffold)"
   ]
  },
  {
   "cell_type": "markdown",
   "metadata": {},
   "source": [
    "In this version of the script, the output from `al_digesttarget` isn't especially readable, but for reference:\n",
    "\n",
    "- Each item is a SeqRecord (see BioPython docs)\n",
    "- The Sequence is the guide 20mer, written from 5' to 3'\n",
    "- The ID is the cut-fragment of DNA of that an enzyme produces, counting from the left (i.e. the most 5' guide has an id of 1) and the strand that the guide is found on (F or R, where F is forward with respect to the input DNA), starting with all the HpaII cuts, then all the BfaI cuts, then all the ScrFI cuts. Note that the script predicts the results when each digestion is done in a separate tube, rather than when all enzymes are used as a mixture (which would kill some guides where cut sites of two different enzymes are <20 bp apart).\n",
    "- The name is the sequence position of the left edge of the guide along the input DNA. For forward-direction guides, this is position of the 5' end of the guide. For reverse, it's position of the 3' end of the guide.\n",
    "- The description is the enzyme that generates the guide's cut site.\n",
    "\n",
    "![Guide Numbering](guide_numbering.png)\n",
    "In this example (the most 5' 1500 bp of the chosen Scaffold), HpaII does not cut. Note that enzyme recognition sites are palindromic and thus recognizes a palindromic sequence containing a PAM on both strands. This results in a guide being generated on both sides of the cut site."
   ]
  },
  {
   "cell_type": "code",
   "execution_count": 8,
   "metadata": {
    "collapsed": false
   },
   "outputs": [
    {
     "data": {
      "text/plain": [
       "[SeqRecord(seq=Seq('GCGCTGGCCAGAACGTTCTC', SingleLetterAlphabet()), id='1_F', name='788', description='BfaI', dbxrefs=['Scaffold102974']),\n",
       " SeqRecord(seq=Seq('AATGTCTTCTCCACGATTCC', SingleLetterAlphabet()), id='2_R', name='810', description='BfaI', dbxrefs=['Scaffold102974']),\n",
       " SeqRecord(seq=Seq('TAAAGGAGAAGGAAACCCCC', SingleLetterAlphabet()), id='2_F', name='1444', description='BfaI', dbxrefs=['Scaffold102974']),\n",
       " SeqRecord(seq=Seq('AGGGGAGGGATTTTTGTGCC', SingleLetterAlphabet()), id='3_R', name='1465', description='BfaI', dbxrefs=['Scaffold102974']),\n",
       " SeqRecord(seq=Seq('GGAGGGACAGCAGCTGGGCC', SingleLetterAlphabet()), id='4_F', name='734', description='ScrFI', dbxrefs=['Scaffold102974']),\n",
       " SeqRecord(seq=Seq('ATCTTTCTTGCCCCCCCCCC', SingleLetterAlphabet()), id='5_R', name='754', description='ScrFI', dbxrefs=['Scaffold102974'])]"
      ]
     },
     "execution_count": 8,
     "metadata": {},
     "output_type": "execute_result"
    }
   ],
   "source": [
    "[item for item in al_digesttarget([longscaffold[0][0:1500]])]"
   ]
  },
  {
   "cell_type": "markdown",
   "metadata": {},
   "source": [
    "Next, we'd like to take the 20mers extracted and score them against the entire *Xenopus laevis* genome. These lines score each guide variable region for specificity using the `xl71` BLAST database and the ` xl71genomedict dict`."
   ]
  },
  {
   "cell_type": "code",
   "execution_count": null,
   "metadata": {
    "collapsed": true
   },
   "outputs": [],
   "source": [
    "def multiscore_pool(x):\n",
    "   score = al_scoreguide(x, \"xl71\", xl71genomedict)\n",
    "   return (score[0], score[1])"
   ]
  },
  {
   "cell_type": "code",
   "execution_count": 11,
   "metadata": {
    "collapsed": true
   },
   "outputs": [],
   "source": [
    "http://sebastianraschka.com/Articles/2014_multiprocessing_intro.html#An-introduction-to-parallel-programming-using-Python's-multiprocessing-module\n",
    "pool = mp.Pool(processes=2)\n",
    "results = [pool.apply(multiscore_pool, args=(x,)) for x in cutslist]\n",
    "pickle.dump(results, open( \"finalpicklescores.pkl\", \"wb\" ))\n",
    "pool.close()"
   ]
  },
  {
   "cell_type": "markdown",
   "metadata": {},
   "source": [
    "The format of the resulting data is `(score, guide)`."
   ]
  },
  {
   "cell_type": "code",
   "execution_count": 53,
   "metadata": {
    "collapsed": false,
    "scrolled": true
   },
   "outputs": [
    {
     "data": {
      "text/plain": [
       "[(15,\n",
       "  SeqRecord(seq=Seq('TGCGCAATAGGAGCATTTAC', SingleLetterAlphabet()), id='0_F', name='1639', description='HpaII', dbxrefs=['Scaffold102974'])),\n",
       " (2,\n",
       "  SeqRecord(seq=Seq('CATGCGCAGTAAATCCGTAC', SingleLetterAlphabet()), id='1_R', name='1661', description='HpaII', dbxrefs=['Scaffold102974'])),\n",
       " (3,\n",
       "  SeqRecord(seq=Seq('TCTGTCTCCTACCCCATGTC', SingleLetterAlphabet()), id='1_F', name='1785', description='HpaII', dbxrefs=['Scaffold102974'])),\n",
       " (8,\n",
       "  SeqRecord(seq=Seq('CAGTCGGGGAGACACGGGAC', SingleLetterAlphabet()), id='2_R', name='1807', description='HpaII', dbxrefs=['Scaffold102974'])),\n",
       " (7,\n",
       "  SeqRecord(seq=Seq('CGCTCGAGCACGCACTCAGC', SingleLetterAlphabet()), id='2_F', name='1889', description='HpaII', dbxrefs=['Scaffold102974'])),\n",
       " (100,\n",
       "  SeqRecord(seq=Seq('AATCTGGCCAGCCACATCAC', SingleLetterAlphabet()), id='3_R', name='1911', description='HpaII', dbxrefs=['Scaffold102974'])),\n",
       " (91,\n",
       "  SeqRecord(seq=Seq('GATTGCCTAGGGCATTTGGC', SingleLetterAlphabet()), id='3_F', name='1927', description='HpaII', dbxrefs=['Scaffold102974'])),\n",
       " (100,\n",
       "  SeqRecord(seq=Seq('GGCCAATC', SingleLetterAlphabet()), id='4_R', name='1949', description='HpaII', dbxrefs=['Scaffold102974'])),\n",
       " (100,\n",
       "  SeqRecord(seq=Seq('CGGATTGGCC', SingleLetterAlphabet()), id='4_F', name='1937', description='HpaII', dbxrefs=['Scaffold102974'])),\n",
       " (100,\n",
       "  SeqRecord(seq=Seq('GGGATTGGTGCACACGGAGC', SingleLetterAlphabet()), id='5_R', name='1959', description='HpaII', dbxrefs=['Scaffold102974'])),\n",
       " (6,\n",
       "  SeqRecord(seq=Seq('GGGCGCCTGATTTGTAAATC', SingleLetterAlphabet()), id='5_F', name='2064', description='HpaII', dbxrefs=['Scaffold102974'])),\n",
       " (99,\n",
       "  SeqRecord(seq=Seq('AAAGGGGGTTTATTCAGGGC', SingleLetterAlphabet()), id='6_R', name='2086', description='HpaII', dbxrefs=['Scaffold102974'])),\n",
       " (100,\n",
       "  SeqRecord(seq=Seq('CATGTACCATTGTATCGAAC', SingleLetterAlphabet()), id='6_F', name='2277', description='HpaII', dbxrefs=['Scaffold102974'])),\n",
       " (15,\n",
       "  SeqRecord(seq=Seq('GCACATTTGGAGCATTTTCC', SingleLetterAlphabet()), id='7_R', name='2299', description='HpaII', dbxrefs=['Scaffold102974'])),\n",
       " (100,\n",
       "  SeqRecord(seq=Seq('TTCCACTCTGCGTATGTCCC', SingleLetterAlphabet()), id='7_F', name='3233', description='HpaII', dbxrefs=['Scaffold102974'])),\n",
       " (100,\n",
       "  SeqRecord(seq=Seq('AACTGAAATAGACACAGCGC', SingleLetterAlphabet()), id='8_R', name='3255', description='HpaII', dbxrefs=['Scaffold102974'])),\n",
       " (62,\n",
       "  SeqRecord(seq=Seq('ATAGTTTCCTCCCTAAAGGC', SingleLetterAlphabet()), id='8_F', name='3404', description='HpaII', dbxrefs=['Scaffold102974'])),\n",
       " (100,\n",
       "  SeqRecord(seq=Seq('ATTGGAGTCAATAATTGGAC', SingleLetterAlphabet()), id='9_R', name='3426', description='HpaII', dbxrefs=['Scaffold102974'])),\n",
       " (95,\n",
       "  SeqRecord(seq=Seq('GAAAGGGCTGATTCCATCAC', SingleLetterAlphabet()), id='9_F', name='3490', description='HpaII', dbxrefs=['Scaffold102974'])),\n",
       " (100,\n",
       "  SeqRecord(seq=Seq('AAGAGAAGCCTATTAAGAGC', SingleLetterAlphabet()), id='10_R', name='3512', description='HpaII', dbxrefs=['Scaffold102974']))]"
      ]
     },
     "execution_count": 53,
     "metadata": {},
     "output_type": "execute_result"
    }
   ],
   "source": [
    "results[0:20]"
   ]
  },
  {
   "cell_type": "markdown",
   "metadata": {},
   "source": [
    "The scores in this object are an ordered list, with all HpaII scores first, then all BfaI scores and finally all ScrFI scores. We are interested in the distribution of scores along the DNA fragment, irrespective of the enzyme used to generate them. Thus, we want to rearrange the list with all scores from 5' to 3'. "
   ]
  },
  {
   "cell_type": "code",
   "execution_count": 93,
   "metadata": {
    "collapsed": true
   },
   "outputs": [],
   "source": [
    "import copy\n",
    "a = []\n",
    "for (score, details) in results:\n",
    "    a.append(int(details.name)) # The guide's name attribute contains its position in bp\n",
    "resultssorted = zip(results, a)\n",
    "resultssorted = sorted(resultssorted, key=itemgetter(1), reverse=False)\n",
    "resultssorted = [item for item, null in resultssorted]"
   ]
  },
  {
   "cell_type": "code",
   "execution_count": 125,
   "metadata": {
    "collapsed": false,
    "scrolled": true
   },
   "outputs": [
    {
     "data": {
      "text/plain": [
       "[(94,\n",
       "  SeqRecord(seq=Seq('GGAGGGACAGCAGCTGGGCC', SingleLetterAlphabet()), id='66855_F', name='734', description='ScrFI', dbxrefs=['Scaffold102974'])),\n",
       " (64,\n",
       "  SeqRecord(seq=Seq('ATCTTTCTTGCCCCCCCCCC', SingleLetterAlphabet()), id='66856_R', name='755', description='ScrFI', dbxrefs=['Scaffold102974'])),\n",
       " (66,\n",
       "  SeqRecord(seq=Seq('GCGCTGGCCAGAACGTTCTC', SingleLetterAlphabet()), id='20037_F', name='788', description='BfaI', dbxrefs=['Scaffold102974'])),\n",
       " (64,\n",
       "  SeqRecord(seq=Seq('AATGTCTTCTCCACGATTCC', SingleLetterAlphabet()), id='20038_R', name='810', description='BfaI', dbxrefs=['Scaffold102974'])),\n",
       " (2,\n",
       "  SeqRecord(seq=Seq('TAAAGGAGAAGGAAACCCCC', SingleLetterAlphabet()), id='20038_F', name='1444', description='BfaI', dbxrefs=['Scaffold102974']))]"
      ]
     },
     "execution_count": 125,
     "metadata": {},
     "output_type": "execute_result"
    }
   ],
   "source": [
    "resultssorted[:5]"
   ]
  },
  {
   "cell_type": "code",
   "execution_count": 126,
   "metadata": {
    "collapsed": false
   },
   "outputs": [
    {
     "data": {
      "text/plain": [
       "[(100,\n",
       "  SeqRecord(seq=Seq('GCACAATATGTTCAAATTGC', SingleLetterAlphabet()), id='66852_R', name='21559690', description='BfaI', dbxrefs=['Scaffold102974'])),\n",
       " (100,\n",
       "  SeqRecord(seq=Seq('GAATTGCAATTTGCGATGTC', SingleLetterAlphabet()), id='66852_F', name='21559782', description='BfaI', dbxrefs=['Scaffold102974'])),\n",
       " (0,\n",
       "  SeqRecord(seq=Seq('TTTGAAATCTGACATGGGGC', SingleLetterAlphabet()), id='66853_R', name='21559804', description='BfaI', dbxrefs=['Scaffold102974'])),\n",
       " (100,\n",
       "  SeqRecord(seq=Seq('CTGTAACTGTCGCATGGATC', SingleLetterAlphabet()), id='66853_F', name='21560446', description='BfaI', dbxrefs=['Scaffold102974'])),\n",
       " (100,\n",
       "  SeqRecord(seq=Seq('GATCCCATTCAGTTTATTTC', SingleLetterAlphabet()), id='66854_R', name='21560467', description='BfaI', dbxrefs=['Scaffold102974']))]"
      ]
     },
     "execution_count": 126,
     "metadata": {},
     "output_type": "execute_result"
    }
   ],
   "source": [
    "resultssorted[-5:]"
   ]
  },
  {
   "cell_type": "markdown",
   "metadata": {},
   "source": [
    "Let's extract the scores and plot their distribution on a histogram."
   ]
  },
  {
   "cell_type": "code",
   "execution_count": 127,
   "metadata": {
    "collapsed": true
   },
   "outputs": [],
   "source": [
    "scores = [score for score, details in resultssorted]"
   ]
  },
  {
   "cell_type": "code",
   "execution_count": 128,
   "metadata": {
    "collapsed": false
   },
   "outputs": [],
   "source": [
    "def plot_score_histogram(scores):\n",
    "    '''\n",
    "    Input is a list of scores only (as ints)\n",
    "    '''\n",
    "    path = '/Library/Fonts/Microsoft/Arial.ttf'\n",
    "    prop = matplotlib.font_manager.FontProperties(fname=path)\n",
    "    matplotlib.rcParams['font.family'] = prop.get_name()\n",
    "    bins = range(0,106,5)\n",
    "    figure()\n",
    "    hist(scores, bins, color=\"gray\")\n",
    "    tick_params(axis=u'both', labelsize=18)\n",
    "    #savefig('Scaffold score distribution.pdf', format=\"pdf\")"
   ]
  },
  {
   "cell_type": "code",
   "execution_count": 130,
   "metadata": {
    "collapsed": false,
    "scrolled": true
   },
   "outputs": [
    {
     "data": {
      "image/png": "[encoded data removed]",
      "text/plain": [
       "<matplotlib.figure.Figure at 0x14c156f10>"
      ]
     },
     "metadata": {},
     "output_type": "display_data"
    }
   ],
   "source": [
    "plot_score_histogram(scores)"
   ]
  },
  {
   "cell_type": "markdown",
   "metadata": {},
   "source": [
    "So, there are ~5000 guides that are quite non-specific (score <= 4) and >14,000 guides that have a score of 100 and a further 4000 that score between 95 and 99."
   ]
  },
  {
   "cell_type": "markdown",
   "metadata": {},
   "source": [
    "####Finding clusters of high-scoring guides\n",
    "To make a library of useful guides, we'd like to PCR through continuous clusters of the highest-scoring ones. Our oligonucleotide vendor [(IDT)](http://www.idtdna.com) has a minimum order of 288 oligos (3x 96-well plates) on a small and relatively inexpensive scale (5 pmol). To work within this limitation, we'd like to pick out 144 possible regions to PCR-amplify. \n",
    "\n",
    "If we are only willing to accept guides with a score of 100, we'd predict that our 144 PCR products will be short (there are probably few long spans of perfect-scoring guides). However, if we relax our requirement to >=99, we may get longer PCR products and thus more guides in our library. How does this scale at different cutoffs/thresholds?"
   ]
  },
  {
   "cell_type": "code",
   "execution_count": 215,
   "metadata": {
    "collapsed": false
   },
   "outputs": [],
   "source": [
    "def find_clusters_by_cutoff(resultssorted, x):\n",
    "    starts=[]\n",
    "    ends=[]\n",
    "    previtemgood = 0\n",
    "    for index, (score, details) in enumerate(resultssorted):\n",
    "        if score >= x and previtemgood ==0 and len(details) >= 20: #this avoids guides that are shorter than 20 bp (from where an enzyme cuts twice in close proximity)\n",
    "            starts.append((index, score, int(details.name)))\n",
    "            previtemgood = 1\n",
    "        elif score >= x and previtemgood == 1 and len(details) >=20:\n",
    "            None\n",
    "        elif previtemgood == 1:\n",
    "            previtemgood =0\n",
    "            ends.append((index-1, resultssorted[index-1][0], int(resultssorted[index-1][1].name)))\n",
    "    run_positions = zip(starts, ends)\n",
    "    goodruns_length = sorted([end - start for (start, i, j), (end,l,m) in run_positions], reverse=True)\n",
    "    return (goodruns_length, run_positions)"
   ]
  },
  {
   "cell_type": "code",
   "execution_count": 216,
   "metadata": {
    "collapsed": false
   },
   "outputs": [],
   "source": [
    "threshold = range(0, 105, 5)\n",
    "probeyield = []\n",
    "for item in threshold:\n",
    "    probeyield.append((item, sum(find_clusters_by_cutoff(resultssorted, item)[0][0:143])))"
   ]
  },
  {
   "cell_type": "code",
   "execution_count": 217,
   "metadata": {
    "collapsed": false,
    "scrolled": false
   },
   "outputs": [
    {
     "name": "stdout",
     "output_type": "stream",
     "text": [
      "[(0, 22490), (5, 9307), (10, 8216), (15, 7902), (20, 7659), (25, 7348), (30, 7125), (35, 6831), (40, 6457), (45, 6323), (50, 5891), (55, 5035), (60, 4791), (65, 4237), (70, 3748), (75, 3577), (80, 3481), (85, 3432), (90, 3256), (95, 2894), (100, 1719)]\n"
     ]
    }
   ],
   "source": [
    "print(probeyield)"
   ]
  },
  {
   "cell_type": "code",
   "execution_count": 148,
   "metadata": {
    "collapsed": false,
    "scrolled": false
   },
   "outputs": [
    {
     "name": "stdout",
     "output_type": "stream",
     "text": [
      "Populating the interactive namespace from numpy and matplotlib\n"
     ]
    },
    {
     "data": {
      "text/plain": [
       "[<matplotlib.lines.Line2D at 0x118c3e050>]"
      ]
     },
     "execution_count": 148,
     "metadata": {},
     "output_type": "execute_result"
    },
    {
     "data": {
      "image/png": "[encoded data removed]",
      "text/plain": [
       "<matplotlib.figure.Figure at 0x14ce3cc50>"
      ]
     },
     "metadata": {},
     "output_type": "display_data"
    }
   ],
   "source": [
    "%pylab inline\n",
    "figure()\n",
    "plot([b for b, c in probeyield], [c for b, c in probeyield], \"o\")"
   ]
  },
  {
   "cell_type": "markdown",
   "metadata": {},
   "source": [
    "Our \"yield\" of guides descends steadily from a cutoff of >=5 to a cutoff of >=95, then drops from 2894 guides produced at a cutoff of 95 to 1719 at 100. So, a cutoff of >=95 balances specificity and yield."
   ]
  },
  {
   "cell_type": "code",
   "execution_count": 205,
   "metadata": {
    "collapsed": false
   },
   "outputs": [],
   "source": [
    "threshold = 95\n",
    "runs = find_clusters_by_cutoff(resultssorted, threshold)[1]\n",
    "#(countofguides, (startguidenumberfrom5', startscore, startpositionbp), (endguidenumberfrom5', endscore, endpositionbp))\n",
    "goodruns = sorted([((i_end - i), (i, s, pos), (i_end, s_end, pos_end)) for (i, s, pos), (i_end, s_end, pos_end) in runs], reverse=True)"
   ]
  },
  {
   "cell_type": "markdown",
   "metadata": {},
   "source": [
    "We next asked what happens if we concentrate the guides into a smaller region. To test this, we cut the input DNA into sections of 1/7 the ~21MB starting length and asked how many guides would be obtained if 144 PCR products were designed within each of those subregions. "
   ]
  },
  {
   "cell_type": "code",
   "execution_count": null,
   "metadata": {
    "collapsed": false,
    "scrolled": true
   },
   "outputs": [],
   "source": [
    "probeyield = []\n",
    "x = 95\n",
    "fraction = 7.0\n",
    "overlap = 2.0\n",
    "region_to_extract = len(resultssorted)/fraction\n",
    "\n",
    "for i in [float(item)/overlap for item in range(int(overlap*fraction+2.0))]:\n",
    "    goodruns = find_clusters_by_cutoff(resultssorted[int(region_to_extract*i):int(region_to_extract*(i+1))], x)[0]\n",
    "    probeyield.append((i, int(region_to_extract*i), sum(goodruns[0:143])))\n",
    "    if sum(goodruns[0:143]) == 0:\n",
    "        break"
   ]
  },
  {
   "cell_type": "code",
   "execution_count": 248,
   "metadata": {
    "collapsed": false,
    "scrolled": false
   },
   "outputs": [
    {
     "data": {
      "text/plain": [
       "[(0.0, 0, 1948),\n",
       " (0.5, 16251, 1977),\n",
       " (1.0, 32502, 2070),\n",
       " (1.5, 48754, 1939),\n",
       " (2.0, 65005, 1781),\n",
       " (2.5, 81257, 1948),\n",
       " (3.0, 97508, 1980),\n",
       " (3.5, 113760, 1836),\n",
       " (4.0, 130011, 1966),\n",
       " (4.5, 146262, 2004),\n",
       " (5.0, 162514, 1985),\n",
       " (5.5, 178765, 1980),\n",
       " (6.0, 195017, 2113),\n",
       " (6.5, 211268, 1923),\n",
       " (7.0, 227520, 0.0)]"
      ]
     },
     "execution_count": 248,
     "metadata": {},
     "output_type": "execute_result"
    }
   ],
   "source": [
    "probeyield"
   ]
  },
  {
   "cell_type": "markdown",
   "metadata": {},
   "source": [
    "The final 1/7 of the scaffold has the densest guide yield."
   ]
  },
  {
   "cell_type": "code",
   "execution_count": null,
   "metadata": {
    "collapsed": true
   },
   "outputs": [],
   "source": [
    "#Modify resultssorted to only include the 3.4MB region used. (18121076 to (21505465+786) = 21506251)\n",
    "resultssorted = [item for item in resultssorted if int(item[1].name) >= 18121076 and int(item[1].name) <= 21506251]\n",
    "scores = [score for score, details in resultssorted]"
   ]
  },
  {
   "cell_type": "markdown",
   "metadata": {},
   "source": [
    "####Designing primers"
   ]
  },
  {
   "cell_type": "markdown",
   "metadata": {},
   "source": [
    "We want to make sure we design primers to make PCR products spanning as many guides as possible. The challenge is making sure we prime in a way that covers all of the high-specificity guides and none of the adjacent low specificity guides. If a \"good\" and a \"bad\" guide are very close together, the constraints on where primers can be designed against are tight."
   ]
  },
  {
   "cell_type": "code",
   "execution_count": null,
   "metadata": {
    "collapsed": false
   },
   "outputs": [],
   "source": [
    "# Set up the input for primer3:\n",
    "# Sequence available to PCR:\n",
    "guide_count = []\n",
    "amps_in_3MB = []\n",
    "\n",
    "for index, item in enumerate(goodruns[0:400]):\n",
    "    left_outside = item[0][0].id[-1]\n",
    "    left_inside = item[2][0][1].id[-1]\n",
    "    if left_outside == \"F\" and left_inside == \"R\":\n",
    "        permissible_start = int(item[0][0].name) + 10\n",
    "        required_start_absolute = int(item[2][0][1].name) +14\n",
    "    elif left_outside == \"R\" and left_inside == \"R\":\n",
    "        permissible_start = int(item[0][0].name) + 1\n",
    "        required_start_absolute = int(item[2][0][1].name) +14\n",
    "    elif left_outside == \"R\" and left_inside == \"F\":\n",
    "        permissible_start = int(item[0][0].name) + 1\n",
    "        required_start_absolute = int(item[2][0][1].name) +18\n",
    "    elif left_outside == \"F\" and left_inside == \"F\":\n",
    "        permissible_start = int(item[0][0].name) + 10\n",
    "        required_start_absolute = int(item[2][0][1].name) +18\n",
    "    else:\n",
    "        print(\"error on left\")\n",
    "    \n",
    "    right_inside = item[2][-1][1].id[-1]\n",
    "    right_outside = item[0][1].id[-1]\n",
    "    if right_outside == \"F\" and right_inside == \"R\":\n",
    "        permissible_end = int(item[0][1].name) + 19 \n",
    "        required_end_absolute = int(item[2][-1][1].name) + 2\n",
    "    elif right_outside == \"R\" and right_inside == \"F\":\n",
    "        permissible_end = int(item[0][1].name) + 10\n",
    "        required_end_absolute = int(item[2][-1][1].name) + 8 \n",
    "    elif right_outside == \"R\" and right_inside == \"R\":\n",
    "        permissible_end = int(item[0][1].name) + 10\n",
    "        required_end_absolute = int(item[2][-1][1].name) + 2\n",
    "    elif right_outside == \"F\" and right_inside == \"F\":\n",
    "        permissible_end = int(item[0][1].name) + 19\n",
    "        required_end_absolute = int(item[2][-1][1].name) + 8\n",
    "    else:\n",
    "        print(\"error on right\")\n",
    "\n",
    "    amp = longscaffold[0][permissible_start:permissible_end]\n",
    "    # Bounds that need to be included in PCR product :\n",
    "    required_start_relative = required_start_absolute-permissible_start\n",
    "    required_end_relative = required_end_absolute - permissible_start\n",
    "    amp.dbxrefs=((required_start_relative, required_end_relative))\n",
    "# Set up some other stuff:\n",
    "    amp.name =str(item[0][0].name)\n",
    "    amp.id =str(item[0][0].name)\n",
    "    amp.description=str(item[1])\n",
    "    amp.seq.alphabet = IUPACAmbiguousDNA()\n",
    "    if \"NNNNN\" in amp.seq: # Exclude if it has runs of Ns\n",
    "        None\n",
    "        #print amp.name + \" contains ns \" + str(item[1])\n",
    "    else:\n",
    "        amps_in_3MB.append(amp)\n",
    "        guide_count.append(item[1])\n",
    "amps_in_3MB_gen = (i for i in amps_in_3MB)\n",
    "\n",
    "print sum(guide_count[0:144])"
   ]
  },
  {
   "cell_type": "code",
   "execution_count": null,
   "metadata": {
    "collapsed": false
   },
   "outputs": [],
   "source": [
    "with open(\"primerlist.txt\", \"w\") as primerlist:\n",
    "    primerlist.write(\"Sequence_id\\tforward_seq\\tforward_start\\tforward_length\\tforward_tm\\tforward_gc\\treverse_seq\\treverse_start\\treverse_length\\treverse_tm\\treverse_gc\\tinput_seq_length\\tPCR_product_length\\tGuides_Contained\\n\")\n",
    "    primerlist.close()\n",
    "\n",
    "for item in amps_in_3MB:\n",
    "    current_amp = item\n",
    "    primerdict = al_primersearch(current_amp)\n",
    "    al_collect_good_primers(item, primerdict)"
   ]
  },
  {
   "cell_type": "markdown",
   "metadata": {},
   "source": [
    "This outputs to \"primerlist.txt\" the final list of primers to PCR from the Xenopus genome, listed in Table 3 (this is tab-separated so can be imported into Excel). After PCR, the products are pooled and subjected to the EATING protocol."
   ]
  }
 ],
 "metadata": {
  "kernelspec": {
   "display_name": "Python 2",
   "language": "python",
   "name": "python2"
  },
  "language_info": {
   "codemirror_mode": {
    "name": "ipython",
    "version": 2
   },
   "file_extension": ".py",
   "mimetype": "text/x-python",
   "name": "python",
   "nbconvert_exporter": "python",
   "pygments_lexer": "ipython2",
   "version": "2.7.6"
  }
 },
 "nbformat": 4,
 "nbformat_minor": 0
}
