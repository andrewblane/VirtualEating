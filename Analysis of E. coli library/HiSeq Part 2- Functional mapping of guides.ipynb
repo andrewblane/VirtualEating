{
 "metadata": {
  "name": "",
  "signature": "sha256:c6c333d2d92177cecd0a679473a48a5475bbcc91dbf3043c1487426145d9a483"
 },
 "nbformat": 3,
 "nbformat_minor": 0,
 "worksheets": [
  {
   "cells": [
    {
     "cell_type": "code",
     "collapsed": false,
     "input": [
      "%run al_funcs.ipynb"
     ],
     "language": "python",
     "metadata": {},
     "outputs": [],
     "prompt_number": 1
    },
    {
     "cell_type": "code",
     "collapsed": false,
     "input": [
      "handle = open(\"../../Genomic Data/Escherichia coli str. K-12 substr. MG1655, complete genome.fasta\", 'rb')\n",
      "ecoligenome = [SeqIO.read(handle, \"fasta\", alphabet=IUPACAmbiguousDNA())]"
     ],
     "language": "python",
     "metadata": {},
     "outputs": [],
     "prompt_number": 2
    },
    {
     "cell_type": "code",
     "collapsed": false,
     "input": [
      "cutslist = [item for item in al_digesttarget(ecoligenome)]"
     ],
     "language": "python",
     "metadata": {},
     "outputs": [],
     "prompt_number": 3
    },
    {
     "cell_type": "code",
     "collapsed": false,
     "input": [
      "cutslistdict = {}\n",
      "for item in cutslist:\n",
      "    cutslistdict[str(item.seq)] = item.description"
     ],
     "language": "python",
     "metadata": {},
     "outputs": [],
     "prompt_number": 4
    },
    {
     "cell_type": "code",
     "collapsed": false,
     "input": [
      "# Load in the BLAST results\n",
      "result_handle = open(\"HiSeqOut/alltgts_ADL1.blast\")\n",
      "ecoli_hits_blast = NCBIXML.parse(result_handle) # use NCBIXML.parse(result_handle) for multiple queries here"
     ],
     "language": "python",
     "metadata": {},
     "outputs": [],
     "prompt_number": 204
    },
    {
     "cell_type": "code",
     "collapsed": false,
     "input": [
      "item = next(ecoli_hits_blast)"
     ],
     "language": "python",
     "metadata": {},
     "outputs": [],
     "prompt_number": 202
    },
    {
     "cell_type": "code",
     "collapsed": false,
     "input": [
      "print item.alignments[0].hsps[0].sbjct_start \n",
      "print item.alignments[0].hsps[0].sbjct_end"
     ],
     "language": "python",
     "metadata": {},
     "outputs": [
      {
       "output_type": "stream",
       "stream": "stdout",
       "text": [
        "3495618\n",
        "3495637\n"
       ]
      }
     ],
     "prompt_number": 203
    },
    {
     "cell_type": "code",
     "collapsed": false,
     "input": [
      "a_goodguides = []\n",
      "index = 0\n",
      "\n",
      "for item in range(10000000):\n",
      "    try:\n",
      "        item = next(ecoli_hits_blast)\n",
      "    except:\n",
      "        break\n",
      "    index += 1\n",
      "    try:\n",
      "        if item.alignments[0].hsps[0].score > 19:\n",
      "            try: \n",
      "                a_goodguides.append((cutslistdict[item.alignments[0].hsps[0].query[0:20]], \\\n",
      "                                     item.alignments[0].hsps[0].query[0:20], \\\n",
      "                                     item.alignments[0].hsps[0].sbjct_start, \\\n",
      "                                     item.alignments[0].hsps[0].sbjct_end))\n",
      "            except: None\n",
      "    except: None\n",
      "    if str(index)[-5:] == \"00000\": #only print every 100000\n",
      "        sys.stdout.flush() # These two lines produce the line counter as the loop runs\n",
      "        sys.stdout.write('\\r' + str(index) + \" \"),"
     ],
     "language": "python",
     "metadata": {},
     "outputs": [
      {
       "output_type": "stream",
       "stream": "stdout",
       "text": [
        "\r",
        "100000 "
       ]
      },
      {
       "output_type": "stream",
       "stream": "stdout",
       "text": [
        "\r",
        "200000 "
       ]
      },
      {
       "output_type": "stream",
       "stream": "stdout",
       "text": [
        "\r",
        "300000 "
       ]
      }
     ]
    },
    {
     "cell_type": "code",
     "collapsed": false,
     "input": [
      "import cPickle as pickle"
     ],
     "language": "python",
     "metadata": {},
     "outputs": [],
     "prompt_number": 8
    },
    {
     "cell_type": "code",
     "collapsed": false,
     "input": [
      "pickle.dump(a_goodguides, open( \"HiSeqOut/Part 5 - functional mapping/ADL1_goodguides.p\", \"wb\" ))"
     ],
     "language": "python",
     "metadata": {},
     "outputs": [],
     "prompt_number": 207
    },
    {
     "cell_type": "code",
     "collapsed": false,
     "input": [
      "#pickle.dump(a_goodguides, open( \"HiSeqOut/Part 5 - functional mapping/ADL2_goodguides.p\", \"wb\" ))"
     ],
     "language": "python",
     "metadata": {},
     "outputs": [],
     "prompt_number": 205
    },
    {
     "cell_type": "code",
     "collapsed": false,
     "input": [
      "a_goodguides = pickle.load( open( \"HiSeqOut/Part 5 - functional mapping/ADL2_goodguides.p\", \"rb\" ) )"
     ],
     "language": "python",
     "metadata": {},
     "outputs": [],
     "prompt_number": 210
    },
    {
     "cell_type": "code",
     "collapsed": false,
     "input": [
      "a_goodguides.extend(pickle.load( open( \"HiSeqOut/Part 5 - functional mapping/ADL1_goodguides.p\", \"rb\" ) ))"
     ],
     "language": "python",
     "metadata": {},
     "outputs": [],
     "prompt_number": 211
    },
    {
     "cell_type": "code",
     "collapsed": false,
     "input": [
      "#a_goodguides.extend(pickle.load( open( \"HiSeqOut/a_goodguides_ADL1_more_stringent.p\", \"rb\" ) ))"
     ],
     "language": "python",
     "metadata": {},
     "outputs": [],
     "prompt_number": 185
    },
    {
     "cell_type": "code",
     "collapsed": false,
     "input": [
      "len(a_goodguides)"
     ],
     "language": "python",
     "metadata": {},
     "outputs": [
      {
       "metadata": {},
       "output_type": "pyout",
       "prompt_number": 212,
       "text": [
        "1842529"
       ]
      }
     ],
     "prompt_number": 212
    },
    {
     "cell_type": "code",
     "collapsed": false,
     "input": [
      "a_goodguides = set(a_goodguides)"
     ],
     "language": "python",
     "metadata": {},
     "outputs": [],
     "prompt_number": 213
    },
    {
     "cell_type": "code",
     "collapsed": false,
     "input": [
      "len(a_goodguides)"
     ],
     "language": "python",
     "metadata": {},
     "outputs": [
      {
       "metadata": {},
       "output_type": "pyout",
       "prompt_number": 214,
       "text": [
        "51376"
       ]
      }
     ],
     "prompt_number": 214
    },
    {
     "cell_type": "code",
     "collapsed": false,
     "input": [
      "gene_annotations = []\n",
      "\n",
      "import csv\n",
      "\n",
      "with open('../../Genomic Data/AllEcoligenesEcogene2014117.txt','rb') as tsvin:\n",
      "    tsvin = csv.reader(tsvin, delimiter='\\t')\n",
      "    for row in tsvin:\n",
      "        gene_annotations.append(row)\n",
      "        "
     ],
     "language": "python",
     "metadata": {},
     "outputs": [],
     "prompt_number": 215
    },
    {
     "cell_type": "code",
     "collapsed": false,
     "input": [
      "gene_annotations[2]"
     ],
     "language": "python",
     "metadata": {},
     "outputs": [
      {
       "metadata": {},
       "output_type": "pyout",
       "prompt_number": 216,
       "text": [
        "['EG10002',\n",
        " 'ECK0753',\n",
        " 'modB',\n",
        " 'chlJ',\n",
        " 'aa',\n",
        " '229',\n",
        " 'Clockwise',\n",
        " '795862',\n",
        " '796551',\n",
        " 'molybdate ABC transporter permease; chlorate resistance protein',\n",
        " 'Transport; Transport of small molecules: Anions',\n",
        " 'Molybdate ABC transporter permease; chlorate resistance',\n",
        " 'Null',\n",
        " '; 1786980',\n",
        " 'P0AF01']"
       ]
      }
     ],
     "prompt_number": 216
    },
    {
     "cell_type": "code",
     "collapsed": false,
     "input": [
      "gene_annotations_dict = {}\n",
      "for item in gene_annotations:\n",
      "    gene_annotations_dict[item[0]] = item[1:]"
     ],
     "language": "python",
     "metadata": {},
     "outputs": [],
     "prompt_number": 217
    },
    {
     "cell_type": "code",
     "collapsed": false,
     "input": [
      "print len(gene_annotations) # Number of genes in EcoGene datafile"
     ],
     "language": "python",
     "metadata": {},
     "outputs": [
      {
       "output_type": "stream",
       "stream": "stdout",
       "text": [
        "4503\n"
       ]
      }
     ],
     "prompt_number": 218
    },
    {
     "cell_type": "code",
     "collapsed": false,
     "input": [
      "#Uncomment if you want to regenerate match of guides to genes\n",
      "genes_in_library = []\n",
      "guides_with_gene_info = []\n",
      "for item in a_goodguides:\n",
      "    for j in gene_annotations[1:]:   \n",
      "        if item[2] > int(j[7]) and item[2] < int(j[8]):\n",
      "            guides_with_gene_info.append([item, j[-1]])\n",
      "            genes_in_library.append(j[0])\n",
      "        else:\n",
      "            None\n",
      "            #print(\"Not in a gene\")\n"
     ],
     "language": "python",
     "metadata": {},
     "outputs": [],
     "prompt_number": 219
    },
    {
     "cell_type": "code",
     "collapsed": false,
     "input": [
      "len(guides_with_gene_info)"
     ],
     "language": "python",
     "metadata": {},
     "outputs": [
      {
       "metadata": {},
       "output_type": "pyout",
       "prompt_number": 220,
       "text": [
        "48169"
       ]
      }
     ],
     "prompt_number": 220
    },
    {
     "cell_type": "code",
     "collapsed": false,
     "input": [
      "pickle.dump(genes_in_library, open( \"HiSeqOut/Part 5 - functional mapping/bothreps_genes_in_library.p\", \"wb\" ))\n",
      "pickle.dump(guides_with_gene_info, open( \"HiSeqOut/Part 5 - functional mapping/bothreps_guides_with_gene_info.p\", \"wb\" ))"
     ],
     "language": "python",
     "metadata": {},
     "outputs": []
    },
    {
     "cell_type": "code",
     "collapsed": false,
     "input": [
      "genes_in_library = pickle.load( open( \"HiSeqOut/Part 5 - functional mapping/ADL2_genes_in_library.p\", \"rb\" ) )\n",
      "guides_with_gene_info = pickle.load( open( \"HiSeqOut/Part 5 - functional mapping/ADL2_guides_with_gene_info.p\", \"rb\" ) )"
     ],
     "language": "python",
     "metadata": {},
     "outputs": []
    },
    {
     "cell_type": "code",
     "collapsed": false,
     "input": [
      "len(genes_in_library) #Number of reads that are in genes..."
     ],
     "language": "python",
     "metadata": {},
     "outputs": [
      {
       "metadata": {},
       "output_type": "pyout",
       "prompt_number": 221,
       "text": [
        "48169"
       ]
      }
     ],
     "prompt_number": 221
    },
    {
     "cell_type": "code",
     "collapsed": false,
     "input": [
      "len(set(genes_in_library)) # Number of EcoGene genes represented in EATING library"
     ],
     "language": "python",
     "metadata": {},
     "outputs": [
      {
       "metadata": {},
       "output_type": "pyout",
       "prompt_number": 222,
       "text": [
        "3984"
       ]
      }
     ],
     "prompt_number": 222
    },
    {
     "cell_type": "code",
     "collapsed": false,
     "input": [
      "gene_annotations_dict"
     ],
     "language": "python",
     "metadata": {},
     "outputs": []
    },
    {
     "cell_type": "code",
     "collapsed": false,
     "input": [
      "# Add lengths of genes to genes dict\n",
      "for item in gene_annotations_dict:\n",
      "    try:\n",
      "        gene_annotations_dict[item].append(int(gene_annotations_dict[item][7]) - int(gene_annotations_dict[item][6]))\n",
      "    except:\n",
      "        print(\"not there\")\n",
      "del gene_annotations_dict[\"EG\"]"
     ],
     "language": "python",
     "metadata": {},
     "outputs": [
      {
       "output_type": "stream",
       "stream": "stdout",
       "text": [
        "not there\n"
       ]
      }
     ],
     "prompt_number": 223
    },
    {
     "cell_type": "code",
     "collapsed": false,
     "input": [
      "genes_in_library_with_lengths = []\n",
      "for item in set(genes_in_library):\n",
      "    genes_in_library_with_lengths.append([item, gene_annotations_dict[item][-1]])"
     ],
     "language": "python",
     "metadata": {},
     "outputs": [],
     "prompt_number": 224
    },
    {
     "cell_type": "code",
     "collapsed": false,
     "input": [
      "import matplotlib as mpl\n",
      "import matplotlib.pyplot as plt\n",
      "import matplotlib.font_manager as fm\n",
      "\n",
      "path = '/Library/Fonts/Microsoft/Arial.ttf'\n",
      "prop = fm.FontProperties(fname=path)\n",
      "mpl.rcParams['font.family'] = prop.get_name()"
     ],
     "language": "python",
     "metadata": {},
     "outputs": [],
     "prompt_number": 231
    },
    {
     "cell_type": "code",
     "collapsed": false,
     "input": [
      "% pylab inline\n",
      "#bins = [0, 100, 200, 400, 800, 1600, 3200, 6400]\n",
      "bins = xrange(0, 5000, 100)\n",
      "figure(figsize=(10, 4))\n",
      "hist([item[-1][-1] for item in gene_annotations_dict.iteritems()], bins, color = \"white\", label=\"All E. coli genes\")  #Extracting the last item(gene lengths) from the dict entries\n",
      "hist([item[1] for item in genes_in_library_with_lengths], bins, color=\"gray\", label=\"Genes targeted by guide library\")\n",
      "tick_params(axis=u'both', labelsize=18)\n",
      "legend()\n",
      "legend(loc=1,prop={'size':16})\n",
      "savefig('HiSeqOut/Part 5 - functional mapping/Guides Targeted vs length_bothreps.pdf', format=\"pdf\")\n",
      "#gca().set_xscale(\"log\")"
     ],
     "language": "python",
     "metadata": {},
     "outputs": [
      {
       "output_type": "stream",
       "stream": "stdout",
       "text": [
        "Populating the interactive namespace from numpy and matplotlib\n"
       ]
      },
      {
       "metadata": {},
       "output_type": "display_data",
       "png": "[encoded data removed]",
       "text": [
        "<matplotlib.figure.Figure at 0x1236edbd0>"
       ]
      }
     ],
     "prompt_number": 244
    },
    {
     "cell_type": "code",
     "collapsed": false,
     "input": [
      "max([item[-1][-1] for item in gene_annotations_dict.iteritems()])"
     ],
     "language": "python",
     "metadata": {},
     "outputs": [
      {
       "metadata": {},
       "output_type": "pyout",
       "prompt_number": 75,
       "text": [
        "8621"
       ]
      }
     ],
     "prompt_number": 75
    },
    {
     "cell_type": "code",
     "collapsed": false,
     "input": [
      "go_terms = []\n",
      "with open('../../Genomic Data/gene_association.ecocyc','rb') as tsvin:\n",
      "    tsvin = csv.reader(tsvin, delimiter='\\t')\n",
      "    for row in tsvin:\n",
      "        if len(row) >2:\n",
      "            go_terms.append(row)"
     ],
     "language": "python",
     "metadata": {},
     "outputs": [],
     "prompt_number": 76
    },
    {
     "cell_type": "code",
     "collapsed": false,
     "input": [
      "go_terms_dict = {}\n",
      "for item in go_terms:\n",
      "    try:\n",
      "        go_terms_dict[item[1]].append(item[4])\n",
      "    except:\n",
      "        go_terms_dict[item[1]] = [item[4]]\n",
      "    go_terms_dict[item[1]] = list(set(go_terms_dict[item[1]]))"
     ],
     "language": "python",
     "metadata": {},
     "outputs": [],
     "prompt_number": 77
    },
    {
     "cell_type": "code",
     "collapsed": false,
     "input": [
      "go_definitions = []\n",
      "with open('../../Genomic Data/go-basic.obo.txt','rb') as tsvin:\n",
      "    tsvin = tsvin.read()\n",
      "    splitfile = tsvin.split(\"\\n\\n\")"
     ],
     "language": "python",
     "metadata": {},
     "outputs": [],
     "prompt_number": 78
    },
    {
     "cell_type": "code",
     "collapsed": false,
     "input": [
      "subsplit = []\n",
      "for item in splitfile:\n",
      "    if item.split(\"\\n\")[0] == \"[Term]\":\n",
      "        subsplit.append(item.split(\"\\n\")[1:])"
     ],
     "language": "python",
     "metadata": {},
     "outputs": [],
     "prompt_number": 79
    },
    {
     "cell_type": "code",
     "collapsed": false,
     "input": [
      "go_definitions_dict = {}\n",
      "for item in subsplit:\n",
      "    go_definitions_dict[item[0].split(\" \")[1]] = item[1:]"
     ],
     "language": "python",
     "metadata": {},
     "outputs": [],
     "prompt_number": 80
    },
    {
     "cell_type": "code",
     "collapsed": false,
     "input": [
      "guides_with_gene_info_and_GO = []\n",
      "\n",
      "for item in set(genes_in_library):\n",
      "    RCSBID = gene_annotations_dict[item][-2]\n",
      "    try:\n",
      "        guides_with_gene_info_and_GO.append((item, go_terms_dict[RCSBID]))\n",
      "    except:\n",
      "        None\n",
      "        #print(\"No GO terms for this RCSB ID\")"
     ],
     "language": "python",
     "metadata": {},
     "outputs": [],
     "prompt_number": 81
    },
    {
     "cell_type": "code",
     "collapsed": false,
     "input": [
      "gene_annotations_dict"
     ],
     "language": "python",
     "metadata": {},
     "outputs": []
    },
    {
     "cell_type": "code",
     "collapsed": false,
     "input": [
      "all_gos_in_lib = []\n",
      "for j in [item[1] for item in guides_with_gene_info_and_GO]:\n",
      "    all_gos_in_lib.extend(j)"
     ],
     "language": "python",
     "metadata": {},
     "outputs": [],
     "prompt_number": 83
    },
    {
     "cell_type": "code",
     "collapsed": false,
     "input": [
      "len(all_gos_in_lib)"
     ],
     "language": "python",
     "metadata": {},
     "outputs": [
      {
       "metadata": {},
       "output_type": "pyout",
       "prompt_number": 84,
       "text": [
        "27184"
       ]
      }
     ],
     "prompt_number": 84
    },
    {
     "cell_type": "code",
     "collapsed": false,
     "input": [
      "from collections import Counter"
     ],
     "language": "python",
     "metadata": {},
     "outputs": [],
     "prompt_number": 85
    },
    {
     "cell_type": "code",
     "collapsed": false,
     "input": [
      "c = Counter(all_gos_in_lib)\n",
      "freqs = []\n",
      "for item in c:\n",
      "   freqs.append((c[item], item))"
     ],
     "language": "python",
     "metadata": {},
     "outputs": [],
     "prompt_number": 86
    },
    {
     "cell_type": "code",
     "collapsed": false,
     "input": [
      "freqs = reversed(sorted(freqs))"
     ],
     "language": "python",
     "metadata": {},
     "outputs": [],
     "prompt_number": 87
    },
    {
     "cell_type": "code",
     "collapsed": false,
     "input": [
      "freqslist = []\n",
      "i = 0\n",
      "while i <100:\n",
      "    freqslist.append(next(freqs))\n",
      "    i += 1"
     ],
     "language": "python",
     "metadata": {},
     "outputs": [],
     "prompt_number": 88
    },
    {
     "cell_type": "code",
     "collapsed": false,
     "input": [
      "freqslist_with_gonames = []\n",
      "for item in freqslist:\n",
      "    if go_definitions_dict[item[1]][1] == \"namespace: biological_process\":\n",
      "        go_name = go_definitions_dict[item[1]][0].split(\" \",1)[1] # Split on first occurrence\n",
      "        freqslist_with_gonames.append([item[0], item[1], go_name])"
     ],
     "language": "python",
     "metadata": {},
     "outputs": [],
     "prompt_number": 89
    },
    {
     "cell_type": "code",
     "collapsed": false,
     "input": [
      "import matplotlib as mpl\n",
      "import matplotlib.pyplot as plt\n",
      "import matplotlib.font_manager as fm\n",
      "import numpy"
     ],
     "language": "python",
     "metadata": {},
     "outputs": [],
     "prompt_number": 226
    },
    {
     "cell_type": "code",
     "collapsed": false,
     "input": [
      "# This sets my pyplot font to Arial\n",
      "# http://stackoverflow.com/questions/16574898/how-to-load-ttf-file-in-matplotlib-using-mpl-rcparams?lq=1\n",
      "path = '/Library/Fonts/Microsoft/Arial.ttf'\n",
      "prop = fm.FontProperties(fname=path)\n",
      "mpl.rcParams['font.family'] = prop.get_name()"
     ],
     "language": "python",
     "metadata": {},
     "outputs": [],
     "prompt_number": 227
    },
    {
     "cell_type": "code",
     "collapsed": false,
     "input": [
      "%pylab inline"
     ],
     "language": "python",
     "metadata": {},
     "outputs": [
      {
       "output_type": "stream",
       "stream": "stdout",
       "text": [
        "Populating the interactive namespace from numpy and matplotlib\n"
       ]
      },
      {
       "output_type": "stream",
       "stream": "stderr",
       "text": [
        "WARNING: pylab import has clobbered these variables: ['sample', 'shuffle', 'randint', 'random', 'triangular', 'uniform', 'seed']\n",
        "`%matplotlib` prevents importing * from pylab and numpy\n"
       ]
      }
     ],
     "prompt_number": 100
    },
    {
     "cell_type": "code",
     "collapsed": false,
     "input": [
      "freqslist_with_gonames"
     ],
     "language": "python",
     "metadata": {},
     "outputs": [
      {
       "metadata": {},
       "output_type": "pyout",
       "prompt_number": 102,
       "text": [
        "[[644, 'GO:0006810', 'transport'],\n",
        " [429, 'GO:0055114', 'oxidation-reduction process'],\n",
        " [349, 'GO:0008152', 'metabolic process'],\n",
        " [318, 'GO:0006355', 'regulation of transcription, DNA-templated'],\n",
        " [308, 'GO:0006351', 'transcription, DNA-templated'],\n",
        " [227, 'GO:0006974', 'cellular response to DNA damage stimulus'],\n",
        " [161, 'GO:0016310', 'phosphorylation'],\n",
        " [149, 'GO:0055085', 'transmembrane transport'],\n",
        " [141, 'GO:0005975', 'carbohydrate metabolic process'],\n",
        " [108, 'GO:0006811', 'ion transport'],\n",
        " [99, 'GO:0008652', 'cellular amino acid biosynthetic process'],\n",
        " [96, 'GO:0008643', 'carbohydrate transport'],\n",
        " [90, 'GO:0006412', 'translation'],\n",
        " [82, 'GO:0006508', 'proteolysis'],\n",
        " [80, 'GO:0046677', 'response to antibiotic'],\n",
        " [75, 'GO:0009103', 'lipopolysaccharide biosynthetic process'],\n",
        " [75, 'GO:0000160', 'phosphorelay signal transduction system'],\n",
        " [72, 'GO:0006629', 'lipid metabolic process'],\n",
        " [71, 'GO:0006865', 'amino acid transport'],\n",
        " [69, 'GO:0006281', 'DNA repair'],\n",
        " [63, 'GO:0015031', 'protein transport'],\n",
        " [63, 'GO:0006310', 'DNA recombination'],\n",
        " [62, 'GO:0045892', 'negative regulation of transcription, DNA-templated'],\n",
        " [58, 'GO:0051301', 'cell division'],\n",
        " [58, 'GO:0032259', 'methylation'],\n",
        " [56, 'GO:0009058', 'biosynthetic process'],\n",
        " [52, 'GO:0009408', 'response to heat'],\n",
        " [51,\n",
        "  'GO:0009401',\n",
        "  'phosphoenolpyruvate-dependent sugar phosphotransferase system'],\n",
        " [48, 'GO:0008360', 'regulation of cell shape'],\n",
        " [48, 'GO:0006260', 'DNA replication'],\n",
        " [47, 'GO:0008033', 'tRNA processing'],\n",
        " [46, 'GO:0009252', 'peptidoglycan biosynthetic process'],\n",
        " [44, 'GO:0006979', 'response to oxidative stress'],\n",
        " [43, 'GO:0045893', 'positive regulation of transcription, DNA-templated'],\n",
        " [42, 'GO:0007155', 'cell adhesion'],\n",
        " [40, 'GO:0007165', 'signal transduction'],\n",
        " [37, 'GO:0006364', 'rRNA processing'],\n",
        " [35, 'GO:0009061', 'anaerobic respiration']]"
       ]
      }
     ],
     "prompt_number": 102
    },
    {
     "cell_type": "code",
     "collapsed": false,
     "input": [
      "plt.figure(figsize=(8, 6))\n",
      "N = len(freqslist_with_gonames[:10])\n",
      "ind = numpy.arange(N)    # the x locations for the groups\n",
      "width = 0.8\n",
      "mpl.pyplot.barh(ind, [item[0] for item in freqslist_with_gonames[:10]], width, hold=None)\n",
      "plt.yticks(ind+width/2., [item[2] for item in freqslist_with_gonames], rotation=0 )\n",
      "#plt.show()"
     ],
     "language": "python",
     "metadata": {},
     "outputs": [
      {
       "metadata": {},
       "output_type": "pyout",
       "prompt_number": 106,
       "text": [
        "([<matplotlib.axis.YTick at 0x136863ad0>,\n",
        "  <matplotlib.axis.YTick at 0x118986a90>,\n",
        "  <matplotlib.axis.YTick at 0x136f81f90>,\n",
        "  <matplotlib.axis.YTick at 0x136f9b890>,\n",
        "  <matplotlib.axis.YTick at 0x136f9bfd0>,\n",
        "  <matplotlib.axis.YTick at 0x136fb5750>,\n",
        "  <matplotlib.axis.YTick at 0x136fb5e90>,\n",
        "  <matplotlib.axis.YTick at 0x136f86610>,\n",
        "  <matplotlib.axis.YTick at 0x136f86d50>,\n",
        "  <matplotlib.axis.YTick at 0x136f9a4d0>],\n",
        " <a list of 10 Text yticklabel objects>)"
       ]
      },
      {
       "metadata": {},
       "output_type": "display_data",
       "png": "[encoded data removed]",
       "text": [
        "<matplotlib.figure.Figure at 0x11a51c910>"
       ]
      }
     ],
     "prompt_number": 106
    },
    {
     "cell_type": "code",
     "collapsed": false,
     "input": [],
     "language": "python",
     "metadata": {},
     "outputs": []
    },
    {
     "cell_type": "code",
     "collapsed": false,
     "input": [
      "all_ecoli_with_gene_info_and_GO = []\n",
      "\n",
      "for item in gene_annotations_dict.iterkeys():\n",
      "    RCSBID = gene_annotations_dict[item][-2]\n",
      "    try:\n",
      "        all_ecoli_with_gene_info_and_GO.append((item, go_terms_dict[RCSBID]))\n",
      "    except:\n",
      "        None\n",
      "        #print(\"No GO terms for this RCSB ID\")"
     ],
     "language": "python",
     "metadata": {},
     "outputs": [],
     "prompt_number": 107
    },
    {
     "cell_type": "code",
     "collapsed": false,
     "input": [
      "all_ecoli_gos = []\n",
      "for j in [item[1] for item in all_ecoli_with_gene_info_and_GO]:\n",
      "    all_ecoli_gos.extend(j)"
     ],
     "language": "python",
     "metadata": {},
     "outputs": [],
     "prompt_number": 108
    },
    {
     "cell_type": "code",
     "collapsed": false,
     "input": [
      "go_count_all_ecoli = Counter(all_ecoli_gos)\n",
      "all_ecoli_freqs = []\n",
      "for item in go_count_all_ecoli:\n",
      "   all_ecoli_freqs.append((go_count_all_ecoli[item], item))\n",
      "all_ecoli_freqs = list(reversed(sorted(all_ecoli_freqs)))"
     ],
     "language": "python",
     "metadata": {},
     "outputs": [],
     "prompt_number": 109
    },
    {
     "cell_type": "code",
     "collapsed": false,
     "input": [
      "all_ecoli_freqslist = []\n",
      "i = 0\n",
      "for item in all_ecoli_freqs:\n",
      "    all_ecoli_freqslist.append(item)"
     ],
     "language": "python",
     "metadata": {},
     "outputs": [],
     "prompt_number": 110
    },
    {
     "cell_type": "code",
     "collapsed": false,
     "input": [
      "all_ecoli_freqslist_with_gonames = []\n",
      "for item in all_ecoli_freqslist:\n",
      "    if go_definitions_dict[item[1]][1] == \"namespace: biological_process\":\n",
      "        go_name = go_definitions_dict[item[1]][0].split(\" \",1)[1] # Split on first occurrence\n",
      "        all_ecoli_freqslist_with_gonames.append([item[0], item[1], go_name])"
     ],
     "language": "python",
     "metadata": {},
     "outputs": [],
     "prompt_number": 111
    },
    {
     "cell_type": "code",
     "collapsed": false,
     "input": [
      "all_ecoli_freqslist_with_gonames[0:10]"
     ],
     "language": "python",
     "metadata": {},
     "outputs": [
      {
       "metadata": {},
       "output_type": "pyout",
       "prompt_number": 112,
       "text": [
        "[[662, 'GO:0006810', 'transport'],\n",
        " [439, 'GO:0055114', 'oxidation-reduction process'],\n",
        " [356, 'GO:0006355', 'regulation of transcription, DNA-templated'],\n",
        " [353, 'GO:0008152', 'metabolic process'],\n",
        " [345, 'GO:0006351', 'transcription, DNA-templated'],\n",
        " [240, 'GO:0006974', 'cellular response to DNA damage stimulus'],\n",
        " [163, 'GO:0016310', 'phosphorylation'],\n",
        " [149, 'GO:0055085', 'transmembrane transport'],\n",
        " [142, 'GO:0005975', 'carbohydrate metabolic process'],\n",
        " [112, 'GO:0006811', 'ion transport']]"
       ]
      }
     ],
     "prompt_number": 112
    },
    {
     "cell_type": "code",
     "collapsed": false,
     "input": [
      "all_ecoli_freqslist_with_gonames_dict = {}\n",
      "for item in all_ecoli_freqslist_with_gonames:\n",
      "    all_ecoli_freqslist_with_gonames_dict[item[2]] = item[0]"
     ],
     "language": "python",
     "metadata": {},
     "outputs": [],
     "prompt_number": 113
    },
    {
     "cell_type": "code",
     "collapsed": false,
     "input": [
      "collated_go_frequences = []\n",
      "for item in freqslist_with_gonames:\n",
      "    print item[-1]\n",
      "    collated_go_frequences.append([item[-1], item[0], all_ecoli_freqslist_with_gonames_dict[item[-1]]])"
     ],
     "language": "python",
     "metadata": {},
     "outputs": [
      {
       "output_type": "stream",
       "stream": "stdout",
       "text": [
        "transport\n",
        "oxidation-reduction process\n",
        "metabolic process\n",
        "regulation of transcription, DNA-templated\n",
        "transcription, DNA-templated\n",
        "cellular response to DNA damage stimulus\n",
        "phosphorylation\n",
        "transmembrane transport\n",
        "carbohydrate metabolic process\n",
        "ion transport\n",
        "cellular amino acid biosynthetic process\n",
        "carbohydrate transport\n",
        "translation\n",
        "proteolysis\n",
        "response to antibiotic\n",
        "lipopolysaccharide biosynthetic process\n",
        "phosphorelay signal transduction system\n",
        "lipid metabolic process\n",
        "amino acid transport\n",
        "DNA repair\n",
        "protein transport\n",
        "DNA recombination\n",
        "negative regulation of transcription, DNA-templated\n",
        "cell division\n",
        "methylation\n",
        "biosynthetic process\n",
        "response to heat\n",
        "phosphoenolpyruvate-dependent sugar phosphotransferase system\n",
        "regulation of cell shape\n",
        "DNA replication\n",
        "tRNA processing\n",
        "peptidoglycan biosynthetic process\n",
        "response to oxidative stress\n",
        "positive regulation of transcription, DNA-templated\n",
        "cell adhesion\n",
        "signal transduction\n",
        "rRNA processing\n",
        "anaerobic respiration\n"
       ]
      }
     ],
     "prompt_number": 114
    },
    {
     "cell_type": "code",
     "collapsed": false,
     "input": [
      "list(enumerate(collated_go_frequences))"
     ],
     "language": "python",
     "metadata": {},
     "outputs": [
      {
       "metadata": {},
       "output_type": "pyout",
       "prompt_number": 118,
       "text": [
        "[(0, ['transport', 644, 662]),\n",
        " (1, ['oxidation-reduction process', 429, 439]),\n",
        " (2, ['metabolic process', 349, 353]),\n",
        " (3, ['regulation of transcription, DNA-templated', 318, 356]),\n",
        " (4, ['transcription, DNA-templated', 308, 345]),\n",
        " (5, ['cellular response to DNA damage stimulus', 227, 240]),\n",
        " (6, ['phosphorylation', 161, 163]),\n",
        " (7, ['transmembrane transport', 149, 149]),\n",
        " (8, ['carbohydrate metabolic process', 141, 142]),\n",
        " (9, ['ion transport', 108, 112]),\n",
        " (10, ['cellular amino acid biosynthetic process', 99, 106]),\n",
        " (11, ['carbohydrate transport', 96, 100]),\n",
        " (12, ['translation', 90, 104]),\n",
        " (13, ['proteolysis', 82, 83]),\n",
        " (14, ['response to antibiotic', 80, 88]),\n",
        " (15, ['lipopolysaccharide biosynthetic process', 75, 76]),\n",
        " (16, ['phosphorelay signal transduction system', 75, 76]),\n",
        " (17, ['lipid metabolic process', 72, 72]),\n",
        " (18, ['amino acid transport', 71, 72]),\n",
        " (19, ['DNA repair', 69, 73]),\n",
        " (20, ['protein transport', 63, 68]),\n",
        " (21, ['DNA recombination', 63, 96]),\n",
        " (22, ['negative regulation of transcription, DNA-templated', 62, 68]),\n",
        " (23, ['cell division', 58, 63]),\n",
        " (24, ['methylation', 58, 59]),\n",
        " (25, ['biosynthetic process', 56, 56]),\n",
        " (26, ['response to heat', 52, 53]),\n",
        " (27,\n",
        "  ['phosphoenolpyruvate-dependent sugar phosphotransferase system', 51, 55]),\n",
        " (28, ['regulation of cell shape', 48, 48]),\n",
        " (29, ['DNA replication', 48, 48]),\n",
        " (30, ['tRNA processing', 47, 48]),\n",
        " (31, ['peptidoglycan biosynthetic process', 46, 47]),\n",
        " (32, ['response to oxidative stress', 44, 45]),\n",
        " (33, ['positive regulation of transcription, DNA-templated', 43, 45]),\n",
        " (34, ['cell adhesion', 42, 43]),\n",
        " (35, ['signal transduction', 40, 40]),\n",
        " (36, ['rRNA processing', 37, 37]),\n",
        " (37, ['anaerobic respiration', 35, 35])]"
       ]
      }
     ],
     "prompt_number": 118
    },
    {
     "cell_type": "code",
     "collapsed": false,
     "input": [
      "collated_go_frequences_all = collated_go_frequences[:]"
     ],
     "language": "python",
     "metadata": {},
     "outputs": [],
     "prompt_number": 123
    },
    {
     "cell_type": "code",
     "collapsed": false,
     "input": [
      "collated_go_frequences_all = pickle.load( open(\"./HiSeqOut/Part 5 - functional mapping/collated_go_frequencies_all.p\", \"r\"))"
     ],
     "language": "python",
     "metadata": {},
     "outputs": [],
     "prompt_number": 156
    },
    {
     "cell_type": "code",
     "collapsed": false,
     "input": [
      "collated_go_frequences = [item for index, item in enumerate(collated_go_frequences_all) if index in [0, 2, 4, 12, 13, 19, 29, 34]]"
     ],
     "language": "python",
     "metadata": {},
     "outputs": [],
     "prompt_number": 173
    },
    {
     "cell_type": "code",
     "collapsed": false,
     "input": [
      "#collated_go_frequences[4][0] = \"cellular amino\\nacid biosynthetic process\""
     ],
     "language": "python",
     "metadata": {},
     "outputs": [],
     "prompt_number": 174
    },
    {
     "cell_type": "code",
     "collapsed": false,
     "input": [
      "collated_go_frequences"
     ],
     "language": "python",
     "metadata": {},
     "outputs": [
      {
       "metadata": {},
       "output_type": "pyout",
       "prompt_number": 176,
       "text": [
        "[['transport', 644, 662],\n",
        " ['metabolic process', 349, 353],\n",
        " ['transcription, DNA-templated', 308, 345],\n",
        " ['translation', 90, 104],\n",
        " ['proteolysis', 82, 83],\n",
        " ['DNA repair', 69, 73],\n",
        " ['DNA replication', 48, 48],\n",
        " ['cell adhesion', 42, 43]]"
       ]
      }
     ],
     "prompt_number": 176
    },
    {
     "cell_type": "code",
     "collapsed": false,
     "input": [
      "#pickle.dump(collated_go_frequences_all, open(\"./HiSeqOut/Part 5 - functional mapping/collated_go_frequencies_all.p\", \"wb\"))"
     ],
     "language": "python",
     "metadata": {},
     "outputs": [],
     "prompt_number": 153
    },
    {
     "cell_type": "code",
     "collapsed": false,
     "input": [
      "import matplotlib.patches as mpatches \n",
      "figure(figsize=(8.5, 3.5))\n",
      "N = len(collated_go_frequences)\n",
      "ind = np.arange(N)    # the x locations for the groups\n",
      "width = 0.8\n",
      "all_coli_plot = matplotlib.pyplot.barh(ind, [item[2] for item in collated_go_frequences], width, hold=None, label=\"All E. coli genes\", color=\"white\")\n",
      "guides_plot = matplotlib.pyplot.barh(ind, [item[1] for item in collated_go_frequences], width, hold=None, color=\"gray\", alpha=1, label=\"Genes targeted\\n by guide library\")\n",
      "plt.yticks(ind+width/2., [item[0] for item in collated_go_frequences], rotation=0 )\n",
      "plt.legend()\n",
      "tick_params(axis=u'both', labelsize=16)\n",
      "legend(loc=1,prop={'size':16})\n",
      "savefig('HiSeqOut/Part 5 - functional mapping/GoTerms - All Ecoli vs targeted by guides_selectedGOs.pdf', bbox_inches='tight')\n"
     ],
     "language": "python",
     "metadata": {},
     "outputs": [
      {
       "metadata": {},
       "output_type": "display_data",
       "png": "[encoded data removed]",
       "text": [
        "<matplotlib.figure.Figure at 0x11769a6d0>"
       ]
      }
     ],
     "prompt_number": 184
    },
    {
     "cell_type": "code",
     "collapsed": false,
     "input": [],
     "language": "python",
     "metadata": {},
     "outputs": []
    }
   ],
   "metadata": {}
  }
 ]
}