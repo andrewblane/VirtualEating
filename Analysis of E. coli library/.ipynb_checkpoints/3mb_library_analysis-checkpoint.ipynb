{
 "metadata": {
  "name": "",
  "signature": "sha256:29e77a705c23cf4c21094b44f60e9d520f007f0d61a4bc76ea2275aee0f1ab26"
 },
 "nbformat": 3,
 "nbformat_minor": 0,
 "worksheets": [
  {
   "cells": [
    {
     "cell_type": "code",
     "collapsed": false,
     "input": [
      "import sys\n",
      "sys.path.append(\"../VirtualEating/\")"
     ],
     "language": "python",
     "metadata": {},
     "outputs": [],
     "prompt_number": 2
    },
    {
     "cell_type": "code",
     "collapsed": false,
     "input": [
      "import al_funcs\n",
      "import os\n",
      "import Bio \n",
      "import re\n",
      "import timeit\n",
      "import copy\n",
      "from Bio import SeqIO\n",
      "from Bio.Blast import NCBIXML\n",
      "from Bio import Restriction \n",
      "from Bio.Restriction import *\n",
      "from Bio.Alphabet.IUPAC import IUPACAmbiguousDNA\n",
      "from Bio.Seq import Seq\n",
      "from Bio.SeqRecord import SeqRecord\n",
      "from Bio.Blast.Applications import NcbiblastnCommandline\n",
      "from Bio import SeqFeature\n",
      "from Bio.SeqFeature import *\n",
      "import pandas\n",
      "import cPickle as pickle\n",
      "from numpy import *\n",
      "from pylab import *\n",
      "from collections import Counter\n",
      "import re\n",
      "import ngsanalysis"
     ],
     "language": "python",
     "metadata": {},
     "outputs": [],
     "prompt_number": 74
    },
    {
     "cell_type": "code",
     "collapsed": false,
     "input": [
      "reload(ngsanalysis)"
     ],
     "language": "python",
     "metadata": {},
     "outputs": [
      {
       "metadata": {},
       "output_type": "pyout",
       "prompt_number": 59,
       "text": [
        "<module 'ngsanalysis' from 'ngsanalysis.py'>"
       ]
      }
     ],
     "prompt_number": 59
    },
    {
     "cell_type": "code",
     "collapsed": false,
     "input": [
      "# This makes a dict of the xl71 genome for score lookups\n",
      "handle = open(\"../../Genomic Data/LAEVIS_7.1.repeatMasked.fa\", 'rb')\n",
      "xl71genome = SeqIO.parse(handle, \"fasta\", alphabet=IUPACAmbiguousDNA())\n",
      "xl71genomedict = {}\n",
      "for item in xl71genome:\n",
      "    xl71genomedict[item.id] = item"
     ],
     "language": "python",
     "metadata": {},
     "outputs": [],
     "prompt_number": 15
    },
    {
     "cell_type": "code",
     "collapsed": false,
     "input": [
      "bounds = pickle.load(open(\"boundaries of 144 pcrs used in 3mb region within scaffold102974.pkl\", \"rb\"))"
     ],
     "language": "python",
     "metadata": {},
     "outputs": [],
     "prompt_number": 14
    },
    {
     "cell_type": "code",
     "collapsed": false,
     "input": [
      "longscaff = xl71genomedict[\"Scaffold102974\"]"
     ],
     "language": "python",
     "metadata": {},
     "outputs": [],
     "prompt_number": 19
    },
    {
     "cell_type": "code",
     "collapsed": false,
     "input": [
      "# Use the boundary information to pick out the amplified regions of Scaffold102974\n",
      "amplicons = []\n",
      "for item in bounds:\n",
      "    a = longscaff[int(item[1]):int(item[2])]\n",
      "    a.name = str(item[0])\n",
      "    amplicons.append(a)"
     ],
     "language": "python",
     "metadata": {},
     "outputs": [],
     "prompt_number": 25
    },
    {
     "cell_type": "code",
     "collapsed": false,
     "input": [
      "reload(al_funcs)"
     ],
     "language": "python",
     "metadata": {},
     "outputs": [
      {
       "metadata": {},
       "output_type": "pyout",
       "prompt_number": 32,
       "text": [
        "<module 'al_funcs' from '../VirtualEating/al_funcs.pyc'>"
       ]
      }
     ],
     "prompt_number": 32
    },
    {
     "cell_type": "code",
     "collapsed": false,
     "input": [
      "a = al_funcs.al_digesttarget(amplicons)"
     ],
     "language": "python",
     "metadata": {},
     "outputs": [],
     "prompt_number": 34
    },
    {
     "cell_type": "code",
     "collapsed": false,
     "input": [
      "len(list(a))"
     ],
     "language": "python",
     "metadata": {},
     "outputs": [
      {
       "metadata": {},
       "output_type": "pyout",
       "prompt_number": 36,
       "text": [
        "1954"
       ]
      }
     ],
     "prompt_number": 36
    },
    {
     "cell_type": "markdown",
     "metadata": {},
     "source": [
      "This sounds about right: 1954 guides in the amplicons produced. Next, load in the sequence data."
     ]
    },
    {
     "cell_type": "code",
     "collapsed": false,
     "input": [
      "reads = list(SeqIO.parse(open(\"../../20150223 SeqData/RHMS004C_S3_L001_R1_001.fastq\", 'rb'), \"fastq\"))"
     ],
     "language": "python",
     "metadata": {},
     "outputs": [],
     "prompt_number": 37
    },
    {
     "cell_type": "code",
     "collapsed": false,
     "input": [
      "reads[1]"
     ],
     "language": "python",
     "metadata": {},
     "outputs": [
      {
       "metadata": {},
       "output_type": "pyout",
       "prompt_number": 40,
       "text": [
        "SeqRecord(seq=Seq('NCACCGACTCGGTGCCACTTTTTCAAGTTGATAACGGACTAGCCTTATTTAAAC...TCC', SingleLetterAlphabet()), id='M02248:49:000000000-ACW7V:1:1101:18029:1002', name='M02248:49:000000000-ACW7V:1:1101:18029:1002', description='M02248:49:000000000-ACW7V:1:1101:18029:1002 1:N:0:3', dbxrefs=[])"
       ]
      }
     ],
     "prompt_number": 40
    },
    {
     "cell_type": "code",
     "collapsed": false,
     "input": [
      "for item in reads[0:20]:\n",
      "    if re.finditer(\"GTTTAAGAG\", item.seq):\n",
      "        print item"
     ],
     "language": "python",
     "metadata": {},
     "outputs": [
      {
       "ename": "TypeError",
       "evalue": "expected string or buffer",
       "output_type": "pyerr",
       "traceback": [
        "\u001b[0;31m---------------------------------------------------------------------------\u001b[0m\n\u001b[0;31mTypeError\u001b[0m                                 Traceback (most recent call last)",
        "\u001b[0;32m<ipython-input-76-eae8e9180784>\u001b[0m in \u001b[0;36m<module>\u001b[0;34m()\u001b[0m\n\u001b[1;32m      1\u001b[0m \u001b[0;32mfor\u001b[0m \u001b[0mitem\u001b[0m \u001b[0;32min\u001b[0m \u001b[0mreads\u001b[0m\u001b[0;34m[\u001b[0m\u001b[0;36m0\u001b[0m\u001b[0;34m:\u001b[0m\u001b[0;36m20\u001b[0m\u001b[0;34m]\u001b[0m\u001b[0;34m:\u001b[0m\u001b[0;34m\u001b[0m\u001b[0m\n\u001b[0;32m----> 2\u001b[0;31m     \u001b[0;32mif\u001b[0m \u001b[0mre\u001b[0m\u001b[0;34m.\u001b[0m\u001b[0mfinditer\u001b[0m\u001b[0;34m(\u001b[0m\u001b[0;34m\"GTTTAAGAG\"\u001b[0m\u001b[0;34m,\u001b[0m \u001b[0mitem\u001b[0m\u001b[0;34m.\u001b[0m\u001b[0mseq\u001b[0m\u001b[0;34m)\u001b[0m\u001b[0;34m:\u001b[0m\u001b[0;34m\u001b[0m\u001b[0m\n\u001b[0m\u001b[1;32m      3\u001b[0m         \u001b[0;32mprint\u001b[0m \u001b[0mitem\u001b[0m\u001b[0;34m\u001b[0m\u001b[0m\n",
        "\u001b[0;32m/Users/andylane/anaconda/python.app/Contents/lib/python2.7/re.pyc\u001b[0m in \u001b[0;36mfinditer\u001b[0;34m(pattern, string, flags)\u001b[0m\n\u001b[1;32m    184\u001b[0m \u001b[0;34m\u001b[0m\u001b[0m\n\u001b[1;32m    185\u001b[0m         Empty matches are included in the result.\"\"\"\n\u001b[0;32m--> 186\u001b[0;31m         \u001b[0;32mreturn\u001b[0m \u001b[0m_compile\u001b[0m\u001b[0;34m(\u001b[0m\u001b[0mpattern\u001b[0m\u001b[0;34m,\u001b[0m \u001b[0mflags\u001b[0m\u001b[0;34m)\u001b[0m\u001b[0;34m.\u001b[0m\u001b[0mfinditer\u001b[0m\u001b[0;34m(\u001b[0m\u001b[0mstring\u001b[0m\u001b[0;34m)\u001b[0m\u001b[0;34m\u001b[0m\u001b[0m\n\u001b[0m\u001b[1;32m    187\u001b[0m \u001b[0;34m\u001b[0m\u001b[0m\n\u001b[1;32m    188\u001b[0m \u001b[0;32mdef\u001b[0m \u001b[0mcompile\u001b[0m\u001b[0;34m(\u001b[0m\u001b[0mpattern\u001b[0m\u001b[0;34m,\u001b[0m \u001b[0mflags\u001b[0m\u001b[0;34m=\u001b[0m\u001b[0;36m0\u001b[0m\u001b[0;34m)\u001b[0m\u001b[0;34m:\u001b[0m\u001b[0;34m\u001b[0m\u001b[0m\n",
        "\u001b[0;31mTypeError\u001b[0m: expected string or buffer"
       ]
      }
     ],
     "prompt_number": 76
    },
    {
     "cell_type": "code",
     "collapsed": false,
     "input": [
      "i = iter(reads[0:100])"
     ],
     "language": "python",
     "metadata": {},
     "outputs": [],
     "prompt_number": 69
    },
    {
     "cell_type": "code",
     "collapsed": false,
     "input": [
      "l = list(ngsanalysis.spacersonly(i))"
     ],
     "language": "python",
     "metadata": {},
     "outputs": [],
     "prompt_number": 70
    },
    {
     "cell_type": "code",
     "collapsed": false,
     "input": [
      "[item for item in l]"
     ],
     "language": "python",
     "metadata": {},
     "outputs": [
      {
       "metadata": {},
       "output_type": "pyout",
       "prompt_number": 72,
       "text": [
        "[SeqRecord(seq=Seq('CACTATAGGGATAGTGTACTGCGGATCCATAGACT', SingleLetterAlphabet()), id='M02248:49:000000000-ACW7V:1:1101:17203:1002', name='M02248:49:000000000-ACW7V:1:1101:17203:1002', description='M02248:49:000000000-ACW7V:1:1101:17203:1002 1:N:0:3', dbxrefs=[]),\n",
        " SeqRecord(seq=Seq('GGCTCCATAGACT', SingleLetterAlphabet()), id='<unknown id>', name='M02248:49:000000000-ACW7V:1:1101:18029:1002', description='<unknown description>', dbxrefs=[]),\n",
        " SeqRecord(seq=Seq('TCACTATAGGGATAGTGTACTGCGGCTCCATAGACT', SingleLetterAlphabet()), id='<unknown id>', name='M02248:49:000000000-ACW7V:1:1101:14603:1003', description='<unknown description>', dbxrefs=[]),\n",
        " SeqRecord(seq=Seq('AGATGCGTTGGATAGTGTACTGCGGCTCCATAGACT', SingleLetterAlphabet()), id='<unknown id>', name='M02248:49:000000000-ACW7V:1:1101:18413:1004', description='<unknown description>', dbxrefs=[]),\n",
        " SeqRecord(seq=Seq('CACTATAGGGATAGTGTACTGCGGCTCCATAGACT', SingleLetterAlphabet()), id='M02248:49:000000000-ACW7V:1:1101:15388:1006', name='M02248:49:000000000-ACW7V:1:1101:15388:1006', description='M02248:49:000000000-ACW7V:1:1101:15388:1006 1:N:0:3', dbxrefs=[]),\n",
        " SeqRecord(seq=Seq('CACTATAGGGATAGTGTACTGCGGCTCCATAGACT', SingleLetterAlphabet()), id='M02248:49:000000000-ACW7V:1:1101:19788:1010', name='M02248:49:000000000-ACW7V:1:1101:19788:1010', description='M02248:49:000000000-ACW7V:1:1101:19788:1010 1:N:0:3', dbxrefs=[]),\n",
        " SeqRecord(seq=Seq('CACTATAGGGATAGTGTACTGCGGCTCCATAGACT', SingleLetterAlphabet()), id='M02248:49:000000000-ACW7V:1:1101:12215:1012', name='M02248:49:000000000-ACW7V:1:1101:12215:1012', description='M02248:49:000000000-ACW7V:1:1101:12215:1012 1:N:0:3', dbxrefs=[]),\n",
        " SeqRecord(seq=Seq('CTATAGTGGGATAGTGTACTGCGGCTCCATAGACT', SingleLetterAlphabet()), id='M02248:49:000000000-ACW7V:1:1101:12034:1013', name='M02248:49:000000000-ACW7V:1:1101:12034:1013', description='M02248:49:000000000-ACW7V:1:1101:12034:1013 1:N:0:3', dbxrefs=[]),\n",
        " SeqRecord(seq=Seq('TATAGGTTGGATAGTGTACTGCGGCTCCATAGACT', SingleLetterAlphabet()), id='M02248:49:000000000-ACW7V:1:1101:14520:1013', name='M02248:49:000000000-ACW7V:1:1101:14520:1013', description='M02248:49:000000000-ACW7V:1:1101:14520:1013 1:N:0:3', dbxrefs=[]),\n",
        " SeqRecord(seq=Seq('CTCACTATAGGATAGTGTACTGCGGCTCCATAGACT', SingleLetterAlphabet()), id='<unknown id>', name='M02248:49:000000000-ACW7V:1:1101:19527:1020', description='<unknown description>', dbxrefs=[]),\n",
        " SeqRecord(seq=Seq('AGATGCGTTGGATAGTGTACTGCGGCTCCATAGACT', SingleLetterAlphabet()), id='<unknown id>', name='M02248:49:000000000-ACW7V:1:1101:13610:1025', description='<unknown description>', dbxrefs=[]),\n",
        " SeqRecord(seq=Seq('TCACTATAGGGATAGTGTACTGCGGCTCCATAGACT', SingleLetterAlphabet()), id='<unknown id>', name='M02248:49:000000000-ACW7V:1:1101:15717:1026', description='<unknown description>', dbxrefs=[]),\n",
        " SeqRecord(seq=Seq('TCACTATAGGATAGTGTACTGCGGCTCCATAGACT', SingleLetterAlphabet()), id='M02248:49:000000000-ACW7V:1:1101:16467:1032', name='M02248:49:000000000-ACW7V:1:1101:16467:1032', description='M02248:49:000000000-ACW7V:1:1101:16467:1032 1:N:0:3', dbxrefs=[]),\n",
        " SeqRecord(seq=Seq('TCCAACGTTGGATAGTGTACTGCGGCTCCATAGACT', SingleLetterAlphabet()), id='<unknown id>', name='M02248:49:000000000-ACW7V:1:1101:17032:1033', description='<unknown description>', dbxrefs=[]),\n",
        " SeqRecord(seq=Seq('CTATAGGTGGATAGTGTACTGCGGCTCCATAGACT', SingleLetterAlphabet()), id='M02248:49:000000000-ACW7V:1:1101:10912:1033', name='M02248:49:000000000-ACW7V:1:1101:10912:1033', description='M02248:49:000000000-ACW7V:1:1101:10912:1033 1:N:0:3', dbxrefs=[]),\n",
        " SeqRecord(seq=Seq('TCACTTTAGGATAGTGTACTGCGGCTCCATAGACT', SingleLetterAlphabet()), id='M02248:49:000000000-ACW7V:1:1101:22176:1038', name='M02248:49:000000000-ACW7V:1:1101:22176:1038', description='M02248:49:000000000-ACW7V:1:1101:22176:1038 1:N:0:3', dbxrefs=[]),\n",
        " SeqRecord(seq=Seq('GATGCGTTGGATAGTGTACTGCGGCTCCATAGACT', SingleLetterAlphabet()), id='M02248:49:000000000-ACW7V:1:1101:10079:1039', name='M02248:49:000000000-ACW7V:1:1101:10079:1039', description='M02248:49:000000000-ACW7V:1:1101:10079:1039 1:N:0:3', dbxrefs=[]),\n",
        " SeqRecord(seq=Seq('CACTATAGGGATAGTGTACTGCGGCTCCATAGACT', SingleLetterAlphabet()), id='M02248:49:000000000-ACW7V:1:1101:17483:1041', name='M02248:49:000000000-ACW7V:1:1101:17483:1041', description='M02248:49:000000000-ACW7V:1:1101:17483:1041 1:N:0:3', dbxrefs=[]),\n",
        " SeqRecord(seq=Seq('TATAGGTTGGATAGTGTACTGCGGCTCCATAGACT', SingleLetterAlphabet()), id='M02248:49:000000000-ACW7V:1:1101:9370:1042', name='M02248:49:000000000-ACW7V:1:1101:9370:1042', description='M02248:49:000000000-ACW7V:1:1101:9370:1042 1:N:0:3', dbxrefs=[]),\n",
        " SeqRecord(seq=Seq('GATGCGTTGGATAGTGTACTGCGGCTCCATAGACT', SingleLetterAlphabet()), id='M02248:49:000000000-ACW7V:1:1101:16650:1047', name='M02248:49:000000000-ACW7V:1:1101:16650:1047', description='M02248:49:000000000-ACW7V:1:1101:16650:1047 1:N:0:3', dbxrefs=[]),\n",
        " SeqRecord(seq=Seq('CACTATAGGGATAGTGTACTGCGGCTCCATAGACT', SingleLetterAlphabet()), id='M02248:49:000000000-ACW7V:1:1101:11373:1047', name='M02248:49:000000000-ACW7V:1:1101:11373:1047', description='M02248:49:000000000-ACW7V:1:1101:11373:1047 1:N:0:3', dbxrefs=[]),\n",
        " SeqRecord(seq=Seq('CTCACTATAGGATAGTGTACTGCGGCTCCATAGACT', SingleLetterAlphabet()), id='<unknown id>', name='M02248:49:000000000-ACW7V:1:1101:16198:1049', description='<unknown description>', dbxrefs=[]),\n",
        " SeqRecord(seq=Seq('TACTGCGGCTCCATAGACT', SingleLetterAlphabet()), id='M02248:49:000000000-ACW7V:1:1101:15067:1049', name='M02248:49:000000000-ACW7V:1:1101:15067:1049', description='M02248:49:000000000-ACW7V:1:1101:15067:1049 1:N:0:3', dbxrefs=[]),\n",
        " SeqRecord(seq=Seq('AGATGCGTTGGATAGTGTACTGCGGCTCCATAGACT', SingleLetterAlphabet()), id='<unknown id>', name='M02248:49:000000000-ACW7V:1:1101:18890:1050', description='<unknown description>', dbxrefs=[]),\n",
        " SeqRecord(seq=Seq('TAGGATAGTAATCAACAGCCCCTCCTAATTCCAAC', SingleLetterAlphabet()), id='M02248:49:000000000-ACW7V:1:1101:11099:1051', name='M02248:49:000000000-ACW7V:1:1101:11099:1051', description='M02248:49:000000000-ACW7V:1:1101:11099:1051 1:N:0:3', dbxrefs=[]),\n",
        " SeqRecord(seq=Seq('TCACTATAGGGATAGTGTACTGCGGCTCCATAGACT', SingleLetterAlphabet()), id='<unknown id>', name='M02248:49:000000000-ACW7V:1:1101:17642:1055', description='<unknown description>', dbxrefs=[]),\n",
        " SeqRecord(seq=Seq('TCACTATAGGATAGTGTACTGCGGCTCCATAGACT', SingleLetterAlphabet()), id='M02248:49:000000000-ACW7V:1:1101:19167:1059', name='M02248:49:000000000-ACW7V:1:1101:19167:1059', description='M02248:49:000000000-ACW7V:1:1101:19167:1059 1:N:0:3', dbxrefs=[]),\n",
        " SeqRecord(seq=Seq('CACTATAGGGATAGTGTACTGCGGCTCCATAGACT', SingleLetterAlphabet()), id='M02248:49:000000000-ACW7V:1:1101:20733:1068', name='M02248:49:000000000-ACW7V:1:1101:20733:1068', description='M02248:49:000000000-ACW7V:1:1101:20733:1068 1:N:0:3', dbxrefs=[]),\n",
        " SeqRecord(seq=Seq('TCGTCCATATCTCATGATACTAAGGCTCCATAGACT', SingleLetterAlphabet()), id='<unknown id>', name='M02248:49:000000000-ACW7V:1:1101:14563:1068', description='<unknown description>', dbxrefs=[]),\n",
        " SeqRecord(seq=Seq('ACTCACTATGGATAGTGTACTGCGGCTCCATAGACT', SingleLetterAlphabet()), id='<unknown id>', name='M02248:49:000000000-ACW7V:1:1101:18799:1069', description='<unknown description>', dbxrefs=[]),\n",
        " SeqRecord(seq=Seq('TCACTATAGGGATAGTGTACTGCGGCTCCATAGACT', SingleLetterAlphabet()), id='<unknown id>', name='M02248:49:000000000-ACW7V:1:1101:14905:1073', description='<unknown description>', dbxrefs=[]),\n",
        " SeqRecord(seq=Seq('GATGCGTTGGATAGTGTACTGCGGCTCCATAGACT', SingleLetterAlphabet()), id='M02248:49:000000000-ACW7V:1:1101:19498:1082', name='M02248:49:000000000-ACW7V:1:1101:19498:1082', description='M02248:49:000000000-ACW7V:1:1101:19498:1082 1:N:0:3', dbxrefs=[]),\n",
        " SeqRecord(seq=Seq('TAATCAACGGATAGTGTACTGCGGCTCCATAGACT', SingleLetterAlphabet()), id='M02248:49:000000000-ACW7V:1:1101:19013:1083', name='M02248:49:000000000-ACW7V:1:1101:19013:1083', description='M02248:49:000000000-ACW7V:1:1101:19013:1083 1:N:0:3', dbxrefs=[]),\n",
        " SeqRecord(seq=Seq('CTCACTATAGGATAGTGTACTGCGGCTCCATAGACT', SingleLetterAlphabet()), id='<unknown id>', name='M02248:49:000000000-ACW7V:1:1101:17783:1086', description='<unknown description>', dbxrefs=[]),\n",
        " SeqRecord(seq=Seq('CTCACTATAGGATAGTGTACTGCGGCTCCATAGACT', SingleLetterAlphabet()), id='<unknown id>', name='M02248:49:000000000-ACW7V:1:1101:20292:1088', description='<unknown description>', dbxrefs=[]),\n",
        " SeqRecord(seq=Seq('TCACTATAGGGATAGTGTACTGCGGCTCCATAGACT', SingleLetterAlphabet()), id='<unknown id>', name='M02248:49:000000000-ACW7V:1:1101:9843:1091', description='<unknown description>', dbxrefs=[]),\n",
        " SeqRecord(seq=Seq('TCACTATAGGATAGTGTACTGCGGCTCCATAGACT', SingleLetterAlphabet()), id='M02248:49:000000000-ACW7V:1:1101:10846:1093', name='M02248:49:000000000-ACW7V:1:1101:10846:1093', description='M02248:49:000000000-ACW7V:1:1101:10846:1093 1:N:0:3', dbxrefs=[]),\n",
        " SeqRecord(seq=Seq('CTCACTATAGGATAGTGTACTGCGGCTCCATAGACT', SingleLetterAlphabet()), id='<unknown id>', name='M02248:49:000000000-ACW7V:1:1101:14105:1100', description='<unknown description>', dbxrefs=[]),\n",
        " SeqRecord(seq=Seq('AGATGCGTTGGATAGTGTACTGCGGCTCCATAGACT', SingleLetterAlphabet()), id='<unknown id>', name='M02248:49:000000000-ACW7V:1:1101:11134:1101', description='<unknown description>', dbxrefs=[]),\n",
        " SeqRecord(seq=Seq('TCACTATAGGGATAGTGTACTGCGGCTCCATAGACT', SingleLetterAlphabet()), id='<unknown id>', name='M02248:49:000000000-ACW7V:1:1101:13533:1107', description='<unknown description>', dbxrefs=[]),\n",
        " SeqRecord(seq=Seq('CACTATAGGGATAGTGTACTGCGGCTCCATAGACT', SingleLetterAlphabet()), id='M02248:49:000000000-ACW7V:1:1101:16683:1111', name='M02248:49:000000000-ACW7V:1:1101:16683:1111', description='M02248:49:000000000-ACW7V:1:1101:16683:1111 1:N:0:3', dbxrefs=[]),\n",
        " SeqRecord(seq=Seq('CTCACTATAGGATAGTGTACTGCGGCTCCATAGACT', SingleLetterAlphabet()), id='<unknown id>', name='M02248:49:000000000-ACW7V:1:1101:13001:1112', description='<unknown description>', dbxrefs=[]),\n",
        " SeqRecord(seq=Seq('TCGTCCATATCTCATGATACTAAGGCTCCATAGACT', SingleLetterAlphabet()), id='<unknown id>', name='M02248:49:000000000-ACW7V:1:1101:17927:1113', description='<unknown description>', dbxrefs=[]),\n",
        " SeqRecord(seq=Seq('TCACTATAGGATAGTGTACTGCGGCTCCATAGACT', SingleLetterAlphabet()), id='M02248:49:000000000-ACW7V:1:1101:16220:1114', name='M02248:49:000000000-ACW7V:1:1101:16220:1114', description='M02248:49:000000000-ACW7V:1:1101:16220:1114 1:N:0:3', dbxrefs=[]),\n",
        " SeqRecord(seq=Seq('TCCAACGTTGGATAGTGTACTGCGGCTCCATAGACT', SingleLetterAlphabet()), id='<unknown id>', name='M02248:49:000000000-ACW7V:1:1101:13348:1119', description='<unknown description>', dbxrefs=[]),\n",
        " SeqRecord(seq=Seq('TCACTATAGGGATAGTGTACTGCGGCTCCATAGACT', SingleLetterAlphabet()), id='<unknown id>', name='M02248:49:000000000-ACW7V:1:1101:17756:1119', description='<unknown description>', dbxrefs=[]),\n",
        " SeqRecord(seq=Seq('CTCACTATAGCTCATAGCCACAAGCCCTCCTATTGT', SingleLetterAlphabet()), id='<unknown id>', name='M02248:49:000000000-ACW7V:1:1101:11258:1127', description='<unknown description>', dbxrefs=[]),\n",
        " SeqRecord(seq=Seq('CACTATAGGGATAGTGTACTGCGGCTCCATAGACT', SingleLetterAlphabet()), id='M02248:49:000000000-ACW7V:1:1101:20690:1130', name='M02248:49:000000000-ACW7V:1:1101:20690:1130', description='M02248:49:000000000-ACW7V:1:1101:20690:1130 1:N:0:3', dbxrefs=[]),\n",
        " SeqRecord(seq=Seq('TCACTATAGGATAGTGTACTGCGGCTCCATAGACT', SingleLetterAlphabet()), id='M02248:49:000000000-ACW7V:1:1101:16486:1137', name='M02248:49:000000000-ACW7V:1:1101:16486:1137', description='M02248:49:000000000-ACW7V:1:1101:16486:1137 1:N:0:3', dbxrefs=[]),\n",
        " SeqRecord(seq=Seq('TCACTATAGGGATAGTGTACTGCGGCTCCATAGACT', SingleLetterAlphabet()), id='<unknown id>', name='M02248:49:000000000-ACW7V:1:1101:12178:1138', description='<unknown description>', dbxrefs=[]),\n",
        " SeqRecord(seq=Seq('CTCACTATAGGATAGTGTACTGCGGATCCATAGACT', SingleLetterAlphabet()), id='<unknown id>', name='M02248:49:000000000-ACW7V:1:1101:16401:1138', description='<unknown description>', dbxrefs=[]),\n",
        " SeqRecord(seq=Seq('TCACTATAGGATAGTGTACTGCGGCTCCATAGACT', SingleLetterAlphabet()), id='M02248:49:000000000-ACW7V:1:1101:9935:1139', name='M02248:49:000000000-ACW7V:1:1101:9935:1139', description='M02248:49:000000000-ACW7V:1:1101:9935:1139 1:N:0:3', dbxrefs=[]),\n",
        " SeqRecord(seq=Seq('TGTACTGCGGCTCCATAGACT', SingleLetterAlphabet()), id='M02248:49:000000000-ACW7V:1:1101:10593:1141', name='M02248:49:000000000-ACW7V:1:1101:10593:1141', description='M02248:49:000000000-ACW7V:1:1101:10593:1141 1:N:0:3', dbxrefs=[]),\n",
        " SeqRecord(seq=Seq('TCCAACGTTGGATAGTGTACTGCGGCTCCATAGACT', SingleLetterAlphabet()), id='<unknown id>', name='M02248:49:000000000-ACW7V:1:1101:13305:1144', description='<unknown description>', dbxrefs=[]),\n",
        " SeqRecord(seq=Seq('TGTACTGCGGCTCCATAGACT', SingleLetterAlphabet()), id='<unknown id>', name='M02248:49:000000000-ACW7V:1:1101:20002:1145', description='<unknown description>', dbxrefs=[]),\n",
        " SeqRecord(seq=Seq('ACTGTGATTGGATAGTGTACTGCGGCTCCATAGACT', SingleLetterAlphabet()), id='<unknown id>', name='M02248:49:000000000-ACW7V:1:1101:12834:1150', description='<unknown description>', dbxrefs=[]),\n",
        " SeqRecord(seq=Seq('CACTATAGGGATAGTGTACTGCGGCTCCATAGACT', SingleLetterAlphabet()), id='M02248:49:000000000-ACW7V:1:1101:9079:1170', name='M02248:49:000000000-ACW7V:1:1101:9079:1170', description='M02248:49:000000000-ACW7V:1:1101:9079:1170 1:N:0:3', dbxrefs=[]),\n",
        " SeqRecord(seq=Seq('CACTATAGGGATAGTGTACTGCGGCTCCATAGACT', SingleLetterAlphabet()), id='M02248:49:000000000-ACW7V:1:1101:20549:1172', name='M02248:49:000000000-ACW7V:1:1101:20549:1172', description='M02248:49:000000000-ACW7V:1:1101:20549:1172 1:N:0:3', dbxrefs=[]),\n",
        " SeqRecord(seq=Seq('ACTATAGCCTGGTGTTGCCCTTTATTTGTTCTGTCT', SingleLetterAlphabet()), id='<unknown id>', name='M02248:49:000000000-ACW7V:1:1101:19913:1172', description='<unknown description>', dbxrefs=[]),\n",
        " SeqRecord(seq=Seq('TCACTATAGCTCATAGCCACAAGACCTCCTATTGT', SingleLetterAlphabet()), id='M02248:49:000000000-ACW7V:1:1101:8642:1175', name='M02248:49:000000000-ACW7V:1:1101:8642:1175', description='M02248:49:000000000-ACW7V:1:1101:8642:1175 1:N:0:3', dbxrefs=[]),\n",
        " SeqRecord(seq=Seq('AGGCTCCATAGACT', SingleLetterAlphabet()), id='<unknown id>', name='M02248:49:000000000-ACW7V:1:1101:15298:1176', description='<unknown description>', dbxrefs=[]),\n",
        " SeqRecord(seq=Seq('CACTATAGGGATAGTGTACTGCGGCTCCATAGACT', SingleLetterAlphabet()), id='M02248:49:000000000-ACW7V:1:1101:16337:1179', name='M02248:49:000000000-ACW7V:1:1101:16337:1179', description='M02248:49:000000000-ACW7V:1:1101:16337:1179 1:N:0:3', dbxrefs=[]),\n",
        " SeqRecord(seq=Seq('CTATAGTTGGATAGTGTACTGCGGCTCCATAGACT', SingleLetterAlphabet()), id='M02248:49:000000000-ACW7V:1:1101:16721:1182', name='M02248:49:000000000-ACW7V:1:1101:16721:1182', description='M02248:49:000000000-ACW7V:1:1101:16721:1182 1:N:0:3', dbxrefs=[]),\n",
        " SeqRecord(seq=Seq('GATGCGTTGGATAGTGTAATGCGGCTCCATAGACT', SingleLetterAlphabet()), id='M02248:49:000000000-ACW7V:1:1101:14286:1184', name='M02248:49:000000000-ACW7V:1:1101:14286:1184', description='M02248:49:000000000-ACW7V:1:1101:14286:1184 1:N:0:3', dbxrefs=[]),\n",
        " SeqRecord(seq=Seq('AGATTCTGGGGATAGTGTACTGCGGCTCCATAGACT', SingleLetterAlphabet()), id='<unknown id>', name='M02248:49:000000000-ACW7V:1:1101:10059:1189', description='<unknown description>', dbxrefs=[]),\n",
        " SeqRecord(seq=Seq('GAACTTCGGGCTAGTGTACTGCGGCTCCATAGACT', SingleLetterAlphabet()), id='M02248:49:000000000-ACW7V:1:1101:16288:1200', name='M02248:49:000000000-ACW7V:1:1101:16288:1200', description='M02248:49:000000000-ACW7V:1:1101:16288:1200 1:N:0:3', dbxrefs=[]),\n",
        " SeqRecord(seq=Seq('CTCACTATAGGATAGTGTACTGCGGCTCCATAGACT', SingleLetterAlphabet()), id='<unknown id>', name='M02248:49:000000000-ACW7V:1:1101:15191:1200', description='<unknown description>', dbxrefs=[]),\n",
        " SeqRecord(seq=Seq('GTGTACTGCGGCTCCATAGACT', SingleLetterAlphabet()), id='<unknown id>', name='M02248:49:000000000-ACW7V:1:1101:15982:1200', description='<unknown description>', dbxrefs=[])]"
       ]
      }
     ],
     "prompt_number": 72
    },
    {
     "cell_type": "code",
     "collapsed": false,
     "input": [],
     "language": "python",
     "metadata": {},
     "outputs": []
    }
   ],
   "metadata": {}
  }
 ]
}